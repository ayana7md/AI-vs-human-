{
  "nbformat": 4,
  "nbformat_minor": 0,
  "metadata": {
    "colab": {
      "provenance": []
    },
    "kernelspec": {
      "name": "ir",
      "display_name": "R"
    },
    "language_info": {
      "name": "R"
    }
  },
  "cells": [
    {
      "cell_type": "code",
      "source": [
        "library(tidyverse)"
      ],
      "metadata": {
        "id": "xx_BfSiyOOfe"
      },
      "execution_count": null,
      "outputs": []
    },
    {
      "cell_type": "code",
      "source": [
        "library(MASS)"
      ],
      "metadata": {
        "id": "WKf4NozSN6ZM"
      },
      "execution_count": null,
      "outputs": []
    },
    {
      "cell_type": "code",
      "source": [
        "datafile<-read_csv('/content/dataai.csv')"
      ],
      "metadata": {
        "colab": {
          "base_uri": "https://localhost:8080/"
        },
        "id": "eULIAoZPOGc0",
        "outputId": "9ee2797e-57e6-489b-a30a-354f5dc485a3"
      },
      "execution_count": null,
      "outputs": [
        {
          "output_type": "stream",
          "name": "stderr",
          "text": [
            "\u001b[1mRows: \u001b[22m\u001b[34m519\u001b[39m \u001b[1mColumns: \u001b[22m\u001b[34m4\u001b[39m\n",
            "\u001b[36m──\u001b[39m \u001b[1mColumn specification\u001b[22m \u001b[36m────────────────────────────────────────────────────────\u001b[39m\n",
            "\u001b[1mDelimiter:\u001b[22m \",\"\n",
            "\u001b[31mchr\u001b[39m (1): Question ID\n",
            "\u001b[32mdbl\u001b[39m (3): Response ID, Answer, is_AI\n",
            "\n",
            "\u001b[36mℹ\u001b[39m Use `spec()` to retrieve the full column specification for this data.\n",
            "\u001b[36mℹ\u001b[39m Specify the column types or set `show_col_types = FALSE` to quiet this message.\n"
          ]
        }
      ]
    },
    {
      "cell_type": "code",
      "source": [
        "View(datafile)"
      ],
      "metadata": {
        "colab": {
          "base_uri": "https://localhost:8080/",
          "height": 1000
        },
        "id": "5pYnTle3OVCQ",
        "outputId": "4602ac10-03e7-4d9f-d167-9c243193cd96"
      },
      "execution_count": null,
      "outputs": [
        {
          "output_type": "display_data",
          "data": {
            "text/plain": [
              "    Response ID\n",
              "1    0         \n",
              "2    1         \n",
              "3    2         \n",
              "4    3         \n",
              "5    4         \n",
              "6    5         \n",
              "7    6         \n",
              "8    7         \n",
              "9    8         \n",
              "10   9         \n",
              "11  10         \n",
              "12  11         \n",
              "13  12         \n",
              "14  13         \n",
              "15  14         \n",
              "16  15         \n",
              "17  16         \n",
              "18  17         \n",
              "19  18         \n",
              "20  19         \n",
              "21  20         \n",
              "22  21         \n",
              "23  22         \n",
              "24  23         \n",
              "25  24         \n",
              "26  25         \n",
              "27  26         \n",
              "28  27         \n",
              "29  28         \n",
              "30  29         \n",
              "⋮   ⋮          \n",
              "490 10         \n",
              "491 14         \n",
              "492 18         \n",
              "493 19         \n",
              "494 21         \n",
              "495 27         \n",
              "496 28         \n",
              "497 30         \n",
              "498 31         \n",
              "499 32         \n",
              "500 33         \n",
              "501 34         \n",
              "502 36         \n",
              "503 38         \n",
              "504  6         \n",
              "505  8         \n",
              "506 10         \n",
              "507 14         \n",
              "508 18         \n",
              "509 19         \n",
              "510 21         \n",
              "511 27         \n",
              "512 28         \n",
              "513 30         \n",
              "514 31         \n",
              "515 32         \n",
              "516 33         \n",
              "517 34         \n",
              "518 36         \n",
              "519 38         \n",
              "    Question ID                                                                                                                                                                                                                                                                                                                                    \n",
              "1   By participating in this survey, you agree to provide as honest answers as possible. Any responses you provide will be anonymized, so neither the research team nor additional respondents will know which one is yours.\\n\\nBy \\nselecting “I agree”, you agree to the terms described above and confirm that you are at least 18 years of age.\n",
              "2   By participating in this survey, you agree to provide as honest answers as possible. Any responses you provide will be anonymized, so neither the research team nor additional respondents will know which one is yours.\\n\\nBy \\nselecting “I agree”, you agree to the terms described above and confirm that you are at least 18 years of age.\n",
              "3   By participating in this survey, you agree to provide as honest answers as possible. Any responses you provide will be anonymized, so neither the research team nor additional respondents will know which one is yours.\\n\\nBy \\nselecting “I agree”, you agree to the terms described above and confirm that you are at least 18 years of age.\n",
              "4   By participating in this survey, you agree to provide as honest answers as possible. Any responses you provide will be anonymized, so neither the research team nor additional respondents will know which one is yours.\\n\\nBy \\nselecting “I agree”, you agree to the terms described above and confirm that you are at least 18 years of age.\n",
              "5   By participating in this survey, you agree to provide as honest answers as possible. Any responses you provide will be anonymized, so neither the research team nor additional respondents will know which one is yours.\\n\\nBy \\nselecting “I agree”, you agree to the terms described above and confirm that you are at least 18 years of age.\n",
              "6   By participating in this survey, you agree to provide as honest answers as possible. Any responses you provide will be anonymized, so neither the research team nor additional respondents will know which one is yours.\\n\\nBy \\nselecting “I agree”, you agree to the terms described above and confirm that you are at least 18 years of age.\n",
              "7   By participating in this survey, you agree to provide as honest answers as possible. Any responses you provide will be anonymized, so neither the research team nor additional respondents will know which one is yours.\\n\\nBy \\nselecting “I agree”, you agree to the terms described above and confirm that you are at least 18 years of age.\n",
              "8   By participating in this survey, you agree to provide as honest answers as possible. Any responses you provide will be anonymized, so neither the research team nor additional respondents will know which one is yours.\\n\\nBy \\nselecting “I agree”, you agree to the terms described above and confirm that you are at least 18 years of age.\n",
              "9   By participating in this survey, you agree to provide as honest answers as possible. Any responses you provide will be anonymized, so neither the research team nor additional respondents will know which one is yours.\\n\\nBy \\nselecting “I agree”, you agree to the terms described above and confirm that you are at least 18 years of age.\n",
              "10  By participating in this survey, you agree to provide as honest answers as possible. Any responses you provide will be anonymized, so neither the research team nor additional respondents will know which one is yours.\\n\\nBy \\nselecting “I agree”, you agree to the terms described above and confirm that you are at least 18 years of age.\n",
              "11  By participating in this survey, you agree to provide as honest answers as possible. Any responses you provide will be anonymized, so neither the research team nor additional respondents will know which one is yours.\\n\\nBy \\nselecting “I agree”, you agree to the terms described above and confirm that you are at least 18 years of age.\n",
              "12  By participating in this survey, you agree to provide as honest answers as possible. Any responses you provide will be anonymized, so neither the research team nor additional respondents will know which one is yours.\\n\\nBy \\nselecting “I agree”, you agree to the terms described above and confirm that you are at least 18 years of age.\n",
              "13  By participating in this survey, you agree to provide as honest answers as possible. Any responses you provide will be anonymized, so neither the research team nor additional respondents will know which one is yours.\\n\\nBy \\nselecting “I agree”, you agree to the terms described above and confirm that you are at least 18 years of age.\n",
              "14  By participating in this survey, you agree to provide as honest answers as possible. Any responses you provide will be anonymized, so neither the research team nor additional respondents will know which one is yours.\\n\\nBy \\nselecting “I agree”, you agree to the terms described above and confirm that you are at least 18 years of age.\n",
              "15  By participating in this survey, you agree to provide as honest answers as possible. Any responses you provide will be anonymized, so neither the research team nor additional respondents will know which one is yours.\\n\\nBy \\nselecting “I agree”, you agree to the terms described above and confirm that you are at least 18 years of age.\n",
              "16  By participating in this survey, you agree to provide as honest answers as possible. Any responses you provide will be anonymized, so neither the research team nor additional respondents will know which one is yours.\\n\\nBy \\nselecting “I agree”, you agree to the terms described above and confirm that you are at least 18 years of age.\n",
              "17  By participating in this survey, you agree to provide as honest answers as possible. Any responses you provide will be anonymized, so neither the research team nor additional respondents will know which one is yours.\\n\\nBy \\nselecting “I agree”, you agree to the terms described above and confirm that you are at least 18 years of age.\n",
              "18  By participating in this survey, you agree to provide as honest answers as possible. Any responses you provide will be anonymized, so neither the research team nor additional respondents will know which one is yours.\\n\\nBy \\nselecting “I agree”, you agree to the terms described above and confirm that you are at least 18 years of age.\n",
              "19  By participating in this survey, you agree to provide as honest answers as possible. Any responses you provide will be anonymized, so neither the research team nor additional respondents will know which one is yours.\\n\\nBy \\nselecting “I agree”, you agree to the terms described above and confirm that you are at least 18 years of age.\n",
              "20  By participating in this survey, you agree to provide as honest answers as possible. Any responses you provide will be anonymized, so neither the research team nor additional respondents will know which one is yours.\\n\\nBy \\nselecting “I agree”, you agree to the terms described above and confirm that you are at least 18 years of age.\n",
              "21  By participating in this survey, you agree to provide as honest answers as possible. Any responses you provide will be anonymized, so neither the research team nor additional respondents will know which one is yours.\\n\\nBy \\nselecting “I agree”, you agree to the terms described above and confirm that you are at least 18 years of age.\n",
              "22  By participating in this survey, you agree to provide as honest answers as possible. Any responses you provide will be anonymized, so neither the research team nor additional respondents will know which one is yours.\\n\\nBy \\nselecting “I agree”, you agree to the terms described above and confirm that you are at least 18 years of age.\n",
              "23  By participating in this survey, you agree to provide as honest answers as possible. Any responses you provide will be anonymized, so neither the research team nor additional respondents will know which one is yours.\\n\\nBy \\nselecting “I agree”, you agree to the terms described above and confirm that you are at least 18 years of age.\n",
              "24  By participating in this survey, you agree to provide as honest answers as possible. Any responses you provide will be anonymized, so neither the research team nor additional respondents will know which one is yours.\\n\\nBy \\nselecting “I agree”, you agree to the terms described above and confirm that you are at least 18 years of age.\n",
              "25  By participating in this survey, you agree to provide as honest answers as possible. Any responses you provide will be anonymized, so neither the research team nor additional respondents will know which one is yours.\\n\\nBy \\nselecting “I agree”, you agree to the terms described above and confirm that you are at least 18 years of age.\n",
              "26  By participating in this survey, you agree to provide as honest answers as possible. Any responses you provide will be anonymized, so neither the research team nor additional respondents will know which one is yours.\\n\\nBy \\nselecting “I agree”, you agree to the terms described above and confirm that you are at least 18 years of age.\n",
              "27  By participating in this survey, you agree to provide as honest answers as possible. Any responses you provide will be anonymized, so neither the research team nor additional respondents will know which one is yours.\\n\\nBy \\nselecting “I agree”, you agree to the terms described above and confirm that you are at least 18 years of age.\n",
              "28  By participating in this survey, you agree to provide as honest answers as possible. Any responses you provide will be anonymized, so neither the research team nor additional respondents will know which one is yours.\\n\\nBy \\nselecting “I agree”, you agree to the terms described above and confirm that you are at least 18 years of age.\n",
              "29  By participating in this survey, you agree to provide as honest answers as possible. Any responses you provide will be anonymized, so neither the research team nor additional respondents will know which one is yours.\\n\\nBy \\nselecting “I agree”, you agree to the terms described above and confirm that you are at least 18 years of age.\n",
              "30  By participating in this survey, you agree to provide as honest answers as possible. Any responses you provide will be anonymized, so neither the research team nor additional respondents will know which one is yours.\\n\\nBy \\nselecting “I agree”, you agree to the terms described above and confirm that you are at least 18 years of age.\n",
              "⋮   ⋮                                                                                                                                                                                                                                                                                                                                              \n",
              "490 AI filler 5 - Click to write Choice 1                                                                                                                                                                                                                                                                                                          \n",
              "491 AI filler 5 - Click to write Choice 1                                                                                                                                                                                                                                                                                                          \n",
              "492 AI filler 5 - Click to write Choice 1                                                                                                                                                                                                                                                                                                          \n",
              "493 AI filler 5 - Click to write Choice 1                                                                                                                                                                                                                                                                                                          \n",
              "494 AI filler 5 - Click to write Choice 1                                                                                                                                                                                                                                                                                                          \n",
              "495 AI filler 5 - Click to write Choice 1                                                                                                                                                                                                                                                                                                          \n",
              "496 AI filler 5 - Click to write Choice 1                                                                                                                                                                                                                                                                                                          \n",
              "497 AI filler 5 - Click to write Choice 1                                                                                                                                                                                                                                                                                                          \n",
              "498 AI filler 5 - Click to write Choice 1                                                                                                                                                                                                                                                                                                          \n",
              "499 AI filler 5 - Click to write Choice 1                                                                                                                                                                                                                                                                                                          \n",
              "500 AI filler 5 - Click to write Choice 1                                                                                                                                                                                                                                                                                                          \n",
              "501 AI filler 5 - Click to write Choice 1                                                                                                                                                                                                                                                                                                          \n",
              "502 AI filler 5 - Click to write Choice 1                                                                                                                                                                                                                                                                                                          \n",
              "503 AI filler 5 - Click to write Choice 1                                                                                                                                                                                                                                                                                                          \n",
              "504 AI q1 - Click to write Choice 1                                                                                                                                                                                                                                                                                                                \n",
              "505 AI q1 - Click to write Choice 1                                                                                                                                                                                                                                                                                                                \n",
              "506 AI q1 - Click to write Choice 1                                                                                                                                                                                                                                                                                                                \n",
              "507 AI q1 - Click to write Choice 1                                                                                                                                                                                                                                                                                                                \n",
              "508 AI q1 - Click to write Choice 1                                                                                                                                                                                                                                                                                                                \n",
              "509 AI q1 - Click to write Choice 1                                                                                                                                                                                                                                                                                                                \n",
              "510 AI q1 - Click to write Choice 1                                                                                                                                                                                                                                                                                                                \n",
              "511 AI q1 - Click to write Choice 1                                                                                                                                                                                                                                                                                                                \n",
              "512 AI q1 - Click to write Choice 1                                                                                                                                                                                                                                                                                                                \n",
              "513 AI q1 - Click to write Choice 1                                                                                                                                                                                                                                                                                                                \n",
              "514 AI q1 - Click to write Choice 1                                                                                                                                                                                                                                                                                                                \n",
              "515 AI q1 - Click to write Choice 1                                                                                                                                                                                                                                                                                                                \n",
              "516 AI q1 - Click to write Choice 1                                                                                                                                                                                                                                                                                                                \n",
              "517 AI q1 - Click to write Choice 1                                                                                                                                                                                                                                                                                                                \n",
              "518 AI q1 - Click to write Choice 1                                                                                                                                                                                                                                                                                                                \n",
              "519 AI q1 - Click to write Choice 1                                                                                                                                                                                                                                                                                                                \n",
              "    Answer is_AI\n",
              "1   1      0    \n",
              "2   1      0    \n",
              "3   1      0    \n",
              "4   1      0    \n",
              "5   1      0    \n",
              "6   1      0    \n",
              "7   1      0    \n",
              "8   1      0    \n",
              "9   1      0    \n",
              "10  1      0    \n",
              "11  1      0    \n",
              "12  1      0    \n",
              "13  1      0    \n",
              "14  1      0    \n",
              "15  1      0    \n",
              "16  1      0    \n",
              "17  1      0    \n",
              "18  1      0    \n",
              "19  1      0    \n",
              "20  1      0    \n",
              "21  1      0    \n",
              "22  1      0    \n",
              "23  1      0    \n",
              "24  1      0    \n",
              "25  1      0    \n",
              "26  1      0    \n",
              "27  1      0    \n",
              "28  1      0    \n",
              "29  1      0    \n",
              "30  1      0    \n",
              "⋮   ⋮      ⋮    \n",
              "490 2      1    \n",
              "491 1      1    \n",
              "492 3      1    \n",
              "493 4      1    \n",
              "494 1      1    \n",
              "495 2      1    \n",
              "496 1      1    \n",
              "497 3      1    \n",
              "498 5      1    \n",
              "499 4      1    \n",
              "500 3      1    \n",
              "501 4      1    \n",
              "502 1      1    \n",
              "503 5      1    \n",
              "504 4      1    \n",
              "505 5      1    \n",
              "506 4      1    \n",
              "507 2      1    \n",
              "508 4      1    \n",
              "509 5      1    \n",
              "510 4      1    \n",
              "511 5      1    \n",
              "512 3      1    \n",
              "513 3      1    \n",
              "514 5      1    \n",
              "515 4      1    \n",
              "516 5      1    \n",
              "517 5      1    \n",
              "518 2      1    \n",
              "519 3      1    "
            ],
            "text/html": [
              "<table class=\"dataframe\">\n",
              "<caption>A spec_tbl_df: 519 × 4</caption>\n",
              "<thead>\n",
              "\t<tr><th scope=col>Response ID</th><th scope=col>Question ID</th><th scope=col>Answer</th><th scope=col>is_AI</th></tr>\n",
              "\t<tr><th scope=col>&lt;dbl&gt;</th><th scope=col>&lt;chr&gt;</th><th scope=col>&lt;dbl&gt;</th><th scope=col>&lt;dbl&gt;</th></tr>\n",
              "</thead>\n",
              "<tbody>\n",
              "\t<tr><td> 0</td><td>By participating in this survey, you agree to provide as honest answers as possible. Any responses you provide will be anonymized, so neither the research team nor additional respondents will know which one is yours.\n",
              "\n",
              "By \n",
              "selecting “I agree”, you agree to the terms described above and confirm that you are at least 18 years of age.</td><td>1</td><td>0</td></tr>\n",
              "\t<tr><td> 1</td><td>By participating in this survey, you agree to provide as honest answers as possible. Any responses you provide will be anonymized, so neither the research team nor additional respondents will know which one is yours.\n",
              "\n",
              "By \n",
              "selecting “I agree”, you agree to the terms described above and confirm that you are at least 18 years of age.</td><td>1</td><td>0</td></tr>\n",
              "\t<tr><td> 2</td><td>By participating in this survey, you agree to provide as honest answers as possible. Any responses you provide will be anonymized, so neither the research team nor additional respondents will know which one is yours.\n",
              "\n",
              "By \n",
              "selecting “I agree”, you agree to the terms described above and confirm that you are at least 18 years of age.</td><td>1</td><td>0</td></tr>\n",
              "\t<tr><td> 3</td><td>By participating in this survey, you agree to provide as honest answers as possible. Any responses you provide will be anonymized, so neither the research team nor additional respondents will know which one is yours.\n",
              "\n",
              "By \n",
              "selecting “I agree”, you agree to the terms described above and confirm that you are at least 18 years of age.</td><td>1</td><td>0</td></tr>\n",
              "\t<tr><td> 4</td><td>By participating in this survey, you agree to provide as honest answers as possible. Any responses you provide will be anonymized, so neither the research team nor additional respondents will know which one is yours.\n",
              "\n",
              "By \n",
              "selecting “I agree”, you agree to the terms described above and confirm that you are at least 18 years of age.</td><td>1</td><td>0</td></tr>\n",
              "\t<tr><td> 5</td><td>By participating in this survey, you agree to provide as honest answers as possible. Any responses you provide will be anonymized, so neither the research team nor additional respondents will know which one is yours.\n",
              "\n",
              "By \n",
              "selecting “I agree”, you agree to the terms described above and confirm that you are at least 18 years of age.</td><td>1</td><td>0</td></tr>\n",
              "\t<tr><td> 6</td><td>By participating in this survey, you agree to provide as honest answers as possible. Any responses you provide will be anonymized, so neither the research team nor additional respondents will know which one is yours.\n",
              "\n",
              "By \n",
              "selecting “I agree”, you agree to the terms described above and confirm that you are at least 18 years of age.</td><td>1</td><td>0</td></tr>\n",
              "\t<tr><td> 7</td><td>By participating in this survey, you agree to provide as honest answers as possible. Any responses you provide will be anonymized, so neither the research team nor additional respondents will know which one is yours.\n",
              "\n",
              "By \n",
              "selecting “I agree”, you agree to the terms described above and confirm that you are at least 18 years of age.</td><td>1</td><td>0</td></tr>\n",
              "\t<tr><td> 8</td><td>By participating in this survey, you agree to provide as honest answers as possible. Any responses you provide will be anonymized, so neither the research team nor additional respondents will know which one is yours.\n",
              "\n",
              "By \n",
              "selecting “I agree”, you agree to the terms described above and confirm that you are at least 18 years of age.</td><td>1</td><td>0</td></tr>\n",
              "\t<tr><td> 9</td><td>By participating in this survey, you agree to provide as honest answers as possible. Any responses you provide will be anonymized, so neither the research team nor additional respondents will know which one is yours.\n",
              "\n",
              "By \n",
              "selecting “I agree”, you agree to the terms described above and confirm that you are at least 18 years of age.</td><td>1</td><td>0</td></tr>\n",
              "\t<tr><td>10</td><td>By participating in this survey, you agree to provide as honest answers as possible. Any responses you provide will be anonymized, so neither the research team nor additional respondents will know which one is yours.\n",
              "\n",
              "By \n",
              "selecting “I agree”, you agree to the terms described above and confirm that you are at least 18 years of age.</td><td>1</td><td>0</td></tr>\n",
              "\t<tr><td>11</td><td>By participating in this survey, you agree to provide as honest answers as possible. Any responses you provide will be anonymized, so neither the research team nor additional respondents will know which one is yours.\n",
              "\n",
              "By \n",
              "selecting “I agree”, you agree to the terms described above and confirm that you are at least 18 years of age.</td><td>1</td><td>0</td></tr>\n",
              "\t<tr><td>12</td><td>By participating in this survey, you agree to provide as honest answers as possible. Any responses you provide will be anonymized, so neither the research team nor additional respondents will know which one is yours.\n",
              "\n",
              "By \n",
              "selecting “I agree”, you agree to the terms described above and confirm that you are at least 18 years of age.</td><td>1</td><td>0</td></tr>\n",
              "\t<tr><td>13</td><td>By participating in this survey, you agree to provide as honest answers as possible. Any responses you provide will be anonymized, so neither the research team nor additional respondents will know which one is yours.\n",
              "\n",
              "By \n",
              "selecting “I agree”, you agree to the terms described above and confirm that you are at least 18 years of age.</td><td>1</td><td>0</td></tr>\n",
              "\t<tr><td>14</td><td>By participating in this survey, you agree to provide as honest answers as possible. Any responses you provide will be anonymized, so neither the research team nor additional respondents will know which one is yours.\n",
              "\n",
              "By \n",
              "selecting “I agree”, you agree to the terms described above and confirm that you are at least 18 years of age.</td><td>1</td><td>0</td></tr>\n",
              "\t<tr><td>15</td><td>By participating in this survey, you agree to provide as honest answers as possible. Any responses you provide will be anonymized, so neither the research team nor additional respondents will know which one is yours.\n",
              "\n",
              "By \n",
              "selecting “I agree”, you agree to the terms described above and confirm that you are at least 18 years of age.</td><td>1</td><td>0</td></tr>\n",
              "\t<tr><td>16</td><td>By participating in this survey, you agree to provide as honest answers as possible. Any responses you provide will be anonymized, so neither the research team nor additional respondents will know which one is yours.\n",
              "\n",
              "By \n",
              "selecting “I agree”, you agree to the terms described above and confirm that you are at least 18 years of age.</td><td>1</td><td>0</td></tr>\n",
              "\t<tr><td>17</td><td>By participating in this survey, you agree to provide as honest answers as possible. Any responses you provide will be anonymized, so neither the research team nor additional respondents will know which one is yours.\n",
              "\n",
              "By \n",
              "selecting “I agree”, you agree to the terms described above and confirm that you are at least 18 years of age.</td><td>1</td><td>0</td></tr>\n",
              "\t<tr><td>18</td><td>By participating in this survey, you agree to provide as honest answers as possible. Any responses you provide will be anonymized, so neither the research team nor additional respondents will know which one is yours.\n",
              "\n",
              "By \n",
              "selecting “I agree”, you agree to the terms described above and confirm that you are at least 18 years of age.</td><td>1</td><td>0</td></tr>\n",
              "\t<tr><td>19</td><td>By participating in this survey, you agree to provide as honest answers as possible. Any responses you provide will be anonymized, so neither the research team nor additional respondents will know which one is yours.\n",
              "\n",
              "By \n",
              "selecting “I agree”, you agree to the terms described above and confirm that you are at least 18 years of age.</td><td>1</td><td>0</td></tr>\n",
              "\t<tr><td>20</td><td>By participating in this survey, you agree to provide as honest answers as possible. Any responses you provide will be anonymized, so neither the research team nor additional respondents will know which one is yours.\n",
              "\n",
              "By \n",
              "selecting “I agree”, you agree to the terms described above and confirm that you are at least 18 years of age.</td><td>1</td><td>0</td></tr>\n",
              "\t<tr><td>21</td><td>By participating in this survey, you agree to provide as honest answers as possible. Any responses you provide will be anonymized, so neither the research team nor additional respondents will know which one is yours.\n",
              "\n",
              "By \n",
              "selecting “I agree”, you agree to the terms described above and confirm that you are at least 18 years of age.</td><td>1</td><td>0</td></tr>\n",
              "\t<tr><td>22</td><td>By participating in this survey, you agree to provide as honest answers as possible. Any responses you provide will be anonymized, so neither the research team nor additional respondents will know which one is yours.\n",
              "\n",
              "By \n",
              "selecting “I agree”, you agree to the terms described above and confirm that you are at least 18 years of age.</td><td>1</td><td>0</td></tr>\n",
              "\t<tr><td>23</td><td>By participating in this survey, you agree to provide as honest answers as possible. Any responses you provide will be anonymized, so neither the research team nor additional respondents will know which one is yours.\n",
              "\n",
              "By \n",
              "selecting “I agree”, you agree to the terms described above and confirm that you are at least 18 years of age.</td><td>1</td><td>0</td></tr>\n",
              "\t<tr><td>24</td><td>By participating in this survey, you agree to provide as honest answers as possible. Any responses you provide will be anonymized, so neither the research team nor additional respondents will know which one is yours.\n",
              "\n",
              "By \n",
              "selecting “I agree”, you agree to the terms described above and confirm that you are at least 18 years of age.</td><td>1</td><td>0</td></tr>\n",
              "\t<tr><td>25</td><td>By participating in this survey, you agree to provide as honest answers as possible. Any responses you provide will be anonymized, so neither the research team nor additional respondents will know which one is yours.\n",
              "\n",
              "By \n",
              "selecting “I agree”, you agree to the terms described above and confirm that you are at least 18 years of age.</td><td>1</td><td>0</td></tr>\n",
              "\t<tr><td>26</td><td>By participating in this survey, you agree to provide as honest answers as possible. Any responses you provide will be anonymized, so neither the research team nor additional respondents will know which one is yours.\n",
              "\n",
              "By \n",
              "selecting “I agree”, you agree to the terms described above and confirm that you are at least 18 years of age.</td><td>1</td><td>0</td></tr>\n",
              "\t<tr><td>27</td><td>By participating in this survey, you agree to provide as honest answers as possible. Any responses you provide will be anonymized, so neither the research team nor additional respondents will know which one is yours.\n",
              "\n",
              "By \n",
              "selecting “I agree”, you agree to the terms described above and confirm that you are at least 18 years of age.</td><td>1</td><td>0</td></tr>\n",
              "\t<tr><td>28</td><td>By participating in this survey, you agree to provide as honest answers as possible. Any responses you provide will be anonymized, so neither the research team nor additional respondents will know which one is yours.\n",
              "\n",
              "By \n",
              "selecting “I agree”, you agree to the terms described above and confirm that you are at least 18 years of age.</td><td>1</td><td>0</td></tr>\n",
              "\t<tr><td>29</td><td>By participating in this survey, you agree to provide as honest answers as possible. Any responses you provide will be anonymized, so neither the research team nor additional respondents will know which one is yours.\n",
              "\n",
              "By \n",
              "selecting “I agree”, you agree to the terms described above and confirm that you are at least 18 years of age.</td><td>1</td><td>0</td></tr>\n",
              "\t<tr><td>⋮</td><td>⋮</td><td>⋮</td><td>⋮</td></tr>\n",
              "\t<tr><td>10</td><td>AI filler 5 - Click to write Choice 1</td><td>2</td><td>1</td></tr>\n",
              "\t<tr><td>14</td><td>AI filler 5 - Click to write Choice 1</td><td>1</td><td>1</td></tr>\n",
              "\t<tr><td>18</td><td>AI filler 5 - Click to write Choice 1</td><td>3</td><td>1</td></tr>\n",
              "\t<tr><td>19</td><td>AI filler 5 - Click to write Choice 1</td><td>4</td><td>1</td></tr>\n",
              "\t<tr><td>21</td><td>AI filler 5 - Click to write Choice 1</td><td>1</td><td>1</td></tr>\n",
              "\t<tr><td>27</td><td>AI filler 5 - Click to write Choice 1</td><td>2</td><td>1</td></tr>\n",
              "\t<tr><td>28</td><td>AI filler 5 - Click to write Choice 1</td><td>1</td><td>1</td></tr>\n",
              "\t<tr><td>30</td><td>AI filler 5 - Click to write Choice 1</td><td>3</td><td>1</td></tr>\n",
              "\t<tr><td>31</td><td>AI filler 5 - Click to write Choice 1</td><td>5</td><td>1</td></tr>\n",
              "\t<tr><td>32</td><td>AI filler 5 - Click to write Choice 1</td><td>4</td><td>1</td></tr>\n",
              "\t<tr><td>33</td><td>AI filler 5 - Click to write Choice 1</td><td>3</td><td>1</td></tr>\n",
              "\t<tr><td>34</td><td>AI filler 5 - Click to write Choice 1</td><td>4</td><td>1</td></tr>\n",
              "\t<tr><td>36</td><td>AI filler 5 - Click to write Choice 1</td><td>1</td><td>1</td></tr>\n",
              "\t<tr><td>38</td><td>AI filler 5 - Click to write Choice 1</td><td>5</td><td>1</td></tr>\n",
              "\t<tr><td> 6</td><td>AI q1 - Click to write Choice 1      </td><td>4</td><td>1</td></tr>\n",
              "\t<tr><td> 8</td><td>AI q1 - Click to write Choice 1      </td><td>5</td><td>1</td></tr>\n",
              "\t<tr><td>10</td><td>AI q1 - Click to write Choice 1      </td><td>4</td><td>1</td></tr>\n",
              "\t<tr><td>14</td><td>AI q1 - Click to write Choice 1      </td><td>2</td><td>1</td></tr>\n",
              "\t<tr><td>18</td><td>AI q1 - Click to write Choice 1      </td><td>4</td><td>1</td></tr>\n",
              "\t<tr><td>19</td><td>AI q1 - Click to write Choice 1      </td><td>5</td><td>1</td></tr>\n",
              "\t<tr><td>21</td><td>AI q1 - Click to write Choice 1      </td><td>4</td><td>1</td></tr>\n",
              "\t<tr><td>27</td><td>AI q1 - Click to write Choice 1      </td><td>5</td><td>1</td></tr>\n",
              "\t<tr><td>28</td><td>AI q1 - Click to write Choice 1      </td><td>3</td><td>1</td></tr>\n",
              "\t<tr><td>30</td><td>AI q1 - Click to write Choice 1      </td><td>3</td><td>1</td></tr>\n",
              "\t<tr><td>31</td><td>AI q1 - Click to write Choice 1      </td><td>5</td><td>1</td></tr>\n",
              "\t<tr><td>32</td><td>AI q1 - Click to write Choice 1      </td><td>4</td><td>1</td></tr>\n",
              "\t<tr><td>33</td><td>AI q1 - Click to write Choice 1      </td><td>5</td><td>1</td></tr>\n",
              "\t<tr><td>34</td><td>AI q1 - Click to write Choice 1      </td><td>5</td><td>1</td></tr>\n",
              "\t<tr><td>36</td><td>AI q1 - Click to write Choice 1      </td><td>2</td><td>1</td></tr>\n",
              "\t<tr><td>38</td><td>AI q1 - Click to write Choice 1      </td><td>3</td><td>1</td></tr>\n",
              "</tbody>\n",
              "</table>\n"
            ],
            "text/markdown": "\nA spec_tbl_df: 519 × 4\n\n| Response ID &lt;dbl&gt; | Question ID &lt;chr&gt; | Answer &lt;dbl&gt; | is_AI &lt;dbl&gt; |\n|---|---|---|---|\n|  0 | By participating in this survey, you agree to provide as honest answers as possible. Any responses you provide will be anonymized, so neither the research team nor additional respondents will know which one is yours.\n\nBy \nselecting “I agree”, you agree to the terms described above and confirm that you are at least 18 years of age. | 1 | 0 |\n|  1 | By participating in this survey, you agree to provide as honest answers as possible. Any responses you provide will be anonymized, so neither the research team nor additional respondents will know which one is yours.\n\nBy \nselecting “I agree”, you agree to the terms described above and confirm that you are at least 18 years of age. | 1 | 0 |\n|  2 | By participating in this survey, you agree to provide as honest answers as possible. Any responses you provide will be anonymized, so neither the research team nor additional respondents will know which one is yours.\n\nBy \nselecting “I agree”, you agree to the terms described above and confirm that you are at least 18 years of age. | 1 | 0 |\n|  3 | By participating in this survey, you agree to provide as honest answers as possible. Any responses you provide will be anonymized, so neither the research team nor additional respondents will know which one is yours.\n\nBy \nselecting “I agree”, you agree to the terms described above and confirm that you are at least 18 years of age. | 1 | 0 |\n|  4 | By participating in this survey, you agree to provide as honest answers as possible. Any responses you provide will be anonymized, so neither the research team nor additional respondents will know which one is yours.\n\nBy \nselecting “I agree”, you agree to the terms described above and confirm that you are at least 18 years of age. | 1 | 0 |\n|  5 | By participating in this survey, you agree to provide as honest answers as possible. Any responses you provide will be anonymized, so neither the research team nor additional respondents will know which one is yours.\n\nBy \nselecting “I agree”, you agree to the terms described above and confirm that you are at least 18 years of age. | 1 | 0 |\n|  6 | By participating in this survey, you agree to provide as honest answers as possible. Any responses you provide will be anonymized, so neither the research team nor additional respondents will know which one is yours.\n\nBy \nselecting “I agree”, you agree to the terms described above and confirm that you are at least 18 years of age. | 1 | 0 |\n|  7 | By participating in this survey, you agree to provide as honest answers as possible. Any responses you provide will be anonymized, so neither the research team nor additional respondents will know which one is yours.\n\nBy \nselecting “I agree”, you agree to the terms described above and confirm that you are at least 18 years of age. | 1 | 0 |\n|  8 | By participating in this survey, you agree to provide as honest answers as possible. Any responses you provide will be anonymized, so neither the research team nor additional respondents will know which one is yours.\n\nBy \nselecting “I agree”, you agree to the terms described above and confirm that you are at least 18 years of age. | 1 | 0 |\n|  9 | By participating in this survey, you agree to provide as honest answers as possible. Any responses you provide will be anonymized, so neither the research team nor additional respondents will know which one is yours.\n\nBy \nselecting “I agree”, you agree to the terms described above and confirm that you are at least 18 years of age. | 1 | 0 |\n| 10 | By participating in this survey, you agree to provide as honest answers as possible. Any responses you provide will be anonymized, so neither the research team nor additional respondents will know which one is yours.\n\nBy \nselecting “I agree”, you agree to the terms described above and confirm that you are at least 18 years of age. | 1 | 0 |\n| 11 | By participating in this survey, you agree to provide as honest answers as possible. Any responses you provide will be anonymized, so neither the research team nor additional respondents will know which one is yours.\n\nBy \nselecting “I agree”, you agree to the terms described above and confirm that you are at least 18 years of age. | 1 | 0 |\n| 12 | By participating in this survey, you agree to provide as honest answers as possible. Any responses you provide will be anonymized, so neither the research team nor additional respondents will know which one is yours.\n\nBy \nselecting “I agree”, you agree to the terms described above and confirm that you are at least 18 years of age. | 1 | 0 |\n| 13 | By participating in this survey, you agree to provide as honest answers as possible. Any responses you provide will be anonymized, so neither the research team nor additional respondents will know which one is yours.\n\nBy \nselecting “I agree”, you agree to the terms described above and confirm that you are at least 18 years of age. | 1 | 0 |\n| 14 | By participating in this survey, you agree to provide as honest answers as possible. Any responses you provide will be anonymized, so neither the research team nor additional respondents will know which one is yours.\n\nBy \nselecting “I agree”, you agree to the terms described above and confirm that you are at least 18 years of age. | 1 | 0 |\n| 15 | By participating in this survey, you agree to provide as honest answers as possible. Any responses you provide will be anonymized, so neither the research team nor additional respondents will know which one is yours.\n\nBy \nselecting “I agree”, you agree to the terms described above and confirm that you are at least 18 years of age. | 1 | 0 |\n| 16 | By participating in this survey, you agree to provide as honest answers as possible. Any responses you provide will be anonymized, so neither the research team nor additional respondents will know which one is yours.\n\nBy \nselecting “I agree”, you agree to the terms described above and confirm that you are at least 18 years of age. | 1 | 0 |\n| 17 | By participating in this survey, you agree to provide as honest answers as possible. Any responses you provide will be anonymized, so neither the research team nor additional respondents will know which one is yours.\n\nBy \nselecting “I agree”, you agree to the terms described above and confirm that you are at least 18 years of age. | 1 | 0 |\n| 18 | By participating in this survey, you agree to provide as honest answers as possible. Any responses you provide will be anonymized, so neither the research team nor additional respondents will know which one is yours.\n\nBy \nselecting “I agree”, you agree to the terms described above and confirm that you are at least 18 years of age. | 1 | 0 |\n| 19 | By participating in this survey, you agree to provide as honest answers as possible. Any responses you provide will be anonymized, so neither the research team nor additional respondents will know which one is yours.\n\nBy \nselecting “I agree”, you agree to the terms described above and confirm that you are at least 18 years of age. | 1 | 0 |\n| 20 | By participating in this survey, you agree to provide as honest answers as possible. Any responses you provide will be anonymized, so neither the research team nor additional respondents will know which one is yours.\n\nBy \nselecting “I agree”, you agree to the terms described above and confirm that you are at least 18 years of age. | 1 | 0 |\n| 21 | By participating in this survey, you agree to provide as honest answers as possible. Any responses you provide will be anonymized, so neither the research team nor additional respondents will know which one is yours.\n\nBy \nselecting “I agree”, you agree to the terms described above and confirm that you are at least 18 years of age. | 1 | 0 |\n| 22 | By participating in this survey, you agree to provide as honest answers as possible. Any responses you provide will be anonymized, so neither the research team nor additional respondents will know which one is yours.\n\nBy \nselecting “I agree”, you agree to the terms described above and confirm that you are at least 18 years of age. | 1 | 0 |\n| 23 | By participating in this survey, you agree to provide as honest answers as possible. Any responses you provide will be anonymized, so neither the research team nor additional respondents will know which one is yours.\n\nBy \nselecting “I agree”, you agree to the terms described above and confirm that you are at least 18 years of age. | 1 | 0 |\n| 24 | By participating in this survey, you agree to provide as honest answers as possible. Any responses you provide will be anonymized, so neither the research team nor additional respondents will know which one is yours.\n\nBy \nselecting “I agree”, you agree to the terms described above and confirm that you are at least 18 years of age. | 1 | 0 |\n| 25 | By participating in this survey, you agree to provide as honest answers as possible. Any responses you provide will be anonymized, so neither the research team nor additional respondents will know which one is yours.\n\nBy \nselecting “I agree”, you agree to the terms described above and confirm that you are at least 18 years of age. | 1 | 0 |\n| 26 | By participating in this survey, you agree to provide as honest answers as possible. Any responses you provide will be anonymized, so neither the research team nor additional respondents will know which one is yours.\n\nBy \nselecting “I agree”, you agree to the terms described above and confirm that you are at least 18 years of age. | 1 | 0 |\n| 27 | By participating in this survey, you agree to provide as honest answers as possible. Any responses you provide will be anonymized, so neither the research team nor additional respondents will know which one is yours.\n\nBy \nselecting “I agree”, you agree to the terms described above and confirm that you are at least 18 years of age. | 1 | 0 |\n| 28 | By participating in this survey, you agree to provide as honest answers as possible. Any responses you provide will be anonymized, so neither the research team nor additional respondents will know which one is yours.\n\nBy \nselecting “I agree”, you agree to the terms described above and confirm that you are at least 18 years of age. | 1 | 0 |\n| 29 | By participating in this survey, you agree to provide as honest answers as possible. Any responses you provide will be anonymized, so neither the research team nor additional respondents will know which one is yours.\n\nBy \nselecting “I agree”, you agree to the terms described above and confirm that you are at least 18 years of age. | 1 | 0 |\n| ⋮ | ⋮ | ⋮ | ⋮ |\n| 10 | AI filler 5 - Click to write Choice 1 | 2 | 1 |\n| 14 | AI filler 5 - Click to write Choice 1 | 1 | 1 |\n| 18 | AI filler 5 - Click to write Choice 1 | 3 | 1 |\n| 19 | AI filler 5 - Click to write Choice 1 | 4 | 1 |\n| 21 | AI filler 5 - Click to write Choice 1 | 1 | 1 |\n| 27 | AI filler 5 - Click to write Choice 1 | 2 | 1 |\n| 28 | AI filler 5 - Click to write Choice 1 | 1 | 1 |\n| 30 | AI filler 5 - Click to write Choice 1 | 3 | 1 |\n| 31 | AI filler 5 - Click to write Choice 1 | 5 | 1 |\n| 32 | AI filler 5 - Click to write Choice 1 | 4 | 1 |\n| 33 | AI filler 5 - Click to write Choice 1 | 3 | 1 |\n| 34 | AI filler 5 - Click to write Choice 1 | 4 | 1 |\n| 36 | AI filler 5 - Click to write Choice 1 | 1 | 1 |\n| 38 | AI filler 5 - Click to write Choice 1 | 5 | 1 |\n|  6 | AI q1 - Click to write Choice 1       | 4 | 1 |\n|  8 | AI q1 - Click to write Choice 1       | 5 | 1 |\n| 10 | AI q1 - Click to write Choice 1       | 4 | 1 |\n| 14 | AI q1 - Click to write Choice 1       | 2 | 1 |\n| 18 | AI q1 - Click to write Choice 1       | 4 | 1 |\n| 19 | AI q1 - Click to write Choice 1       | 5 | 1 |\n| 21 | AI q1 - Click to write Choice 1       | 4 | 1 |\n| 27 | AI q1 - Click to write Choice 1       | 5 | 1 |\n| 28 | AI q1 - Click to write Choice 1       | 3 | 1 |\n| 30 | AI q1 - Click to write Choice 1       | 3 | 1 |\n| 31 | AI q1 - Click to write Choice 1       | 5 | 1 |\n| 32 | AI q1 - Click to write Choice 1       | 4 | 1 |\n| 33 | AI q1 - Click to write Choice 1       | 5 | 1 |\n| 34 | AI q1 - Click to write Choice 1       | 5 | 1 |\n| 36 | AI q1 - Click to write Choice 1       | 2 | 1 |\n| 38 | AI q1 - Click to write Choice 1       | 3 | 1 |\n\n",
            "text/latex": "A spec\\_tbl\\_df: 519 × 4\n\\begin{tabular}{llll}\n Response ID & Question ID & Answer & is\\_AI\\\\\n <dbl> & <chr> & <dbl> & <dbl>\\\\\n\\hline\n\t  0 & By participating in this survey, you agree to provide as honest answers as possible. Any responses you provide will be anonymized, so neither the research team nor additional respondents will know which one is yours.\n\nBy \nselecting “I agree”, you agree to the terms described above and confirm that you are at least 18 years of age. & 1 & 0\\\\\n\t  1 & By participating in this survey, you agree to provide as honest answers as possible. Any responses you provide will be anonymized, so neither the research team nor additional respondents will know which one is yours.\n\nBy \nselecting “I agree”, you agree to the terms described above and confirm that you are at least 18 years of age. & 1 & 0\\\\\n\t  2 & By participating in this survey, you agree to provide as honest answers as possible. Any responses you provide will be anonymized, so neither the research team nor additional respondents will know which one is yours.\n\nBy \nselecting “I agree”, you agree to the terms described above and confirm that you are at least 18 years of age. & 1 & 0\\\\\n\t  3 & By participating in this survey, you agree to provide as honest answers as possible. Any responses you provide will be anonymized, so neither the research team nor additional respondents will know which one is yours.\n\nBy \nselecting “I agree”, you agree to the terms described above and confirm that you are at least 18 years of age. & 1 & 0\\\\\n\t  4 & By participating in this survey, you agree to provide as honest answers as possible. Any responses you provide will be anonymized, so neither the research team nor additional respondents will know which one is yours.\n\nBy \nselecting “I agree”, you agree to the terms described above and confirm that you are at least 18 years of age. & 1 & 0\\\\\n\t  5 & By participating in this survey, you agree to provide as honest answers as possible. Any responses you provide will be anonymized, so neither the research team nor additional respondents will know which one is yours.\n\nBy \nselecting “I agree”, you agree to the terms described above and confirm that you are at least 18 years of age. & 1 & 0\\\\\n\t  6 & By participating in this survey, you agree to provide as honest answers as possible. Any responses you provide will be anonymized, so neither the research team nor additional respondents will know which one is yours.\n\nBy \nselecting “I agree”, you agree to the terms described above and confirm that you are at least 18 years of age. & 1 & 0\\\\\n\t  7 & By participating in this survey, you agree to provide as honest answers as possible. Any responses you provide will be anonymized, so neither the research team nor additional respondents will know which one is yours.\n\nBy \nselecting “I agree”, you agree to the terms described above and confirm that you are at least 18 years of age. & 1 & 0\\\\\n\t  8 & By participating in this survey, you agree to provide as honest answers as possible. Any responses you provide will be anonymized, so neither the research team nor additional respondents will know which one is yours.\n\nBy \nselecting “I agree”, you agree to the terms described above and confirm that you are at least 18 years of age. & 1 & 0\\\\\n\t  9 & By participating in this survey, you agree to provide as honest answers as possible. Any responses you provide will be anonymized, so neither the research team nor additional respondents will know which one is yours.\n\nBy \nselecting “I agree”, you agree to the terms described above and confirm that you are at least 18 years of age. & 1 & 0\\\\\n\t 10 & By participating in this survey, you agree to provide as honest answers as possible. Any responses you provide will be anonymized, so neither the research team nor additional respondents will know which one is yours.\n\nBy \nselecting “I agree”, you agree to the terms described above and confirm that you are at least 18 years of age. & 1 & 0\\\\\n\t 11 & By participating in this survey, you agree to provide as honest answers as possible. Any responses you provide will be anonymized, so neither the research team nor additional respondents will know which one is yours.\n\nBy \nselecting “I agree”, you agree to the terms described above and confirm that you are at least 18 years of age. & 1 & 0\\\\\n\t 12 & By participating in this survey, you agree to provide as honest answers as possible. Any responses you provide will be anonymized, so neither the research team nor additional respondents will know which one is yours.\n\nBy \nselecting “I agree”, you agree to the terms described above and confirm that you are at least 18 years of age. & 1 & 0\\\\\n\t 13 & By participating in this survey, you agree to provide as honest answers as possible. Any responses you provide will be anonymized, so neither the research team nor additional respondents will know which one is yours.\n\nBy \nselecting “I agree”, you agree to the terms described above and confirm that you are at least 18 years of age. & 1 & 0\\\\\n\t 14 & By participating in this survey, you agree to provide as honest answers as possible. Any responses you provide will be anonymized, so neither the research team nor additional respondents will know which one is yours.\n\nBy \nselecting “I agree”, you agree to the terms described above and confirm that you are at least 18 years of age. & 1 & 0\\\\\n\t 15 & By participating in this survey, you agree to provide as honest answers as possible. Any responses you provide will be anonymized, so neither the research team nor additional respondents will know which one is yours.\n\nBy \nselecting “I agree”, you agree to the terms described above and confirm that you are at least 18 years of age. & 1 & 0\\\\\n\t 16 & By participating in this survey, you agree to provide as honest answers as possible. Any responses you provide will be anonymized, so neither the research team nor additional respondents will know which one is yours.\n\nBy \nselecting “I agree”, you agree to the terms described above and confirm that you are at least 18 years of age. & 1 & 0\\\\\n\t 17 & By participating in this survey, you agree to provide as honest answers as possible. Any responses you provide will be anonymized, so neither the research team nor additional respondents will know which one is yours.\n\nBy \nselecting “I agree”, you agree to the terms described above and confirm that you are at least 18 years of age. & 1 & 0\\\\\n\t 18 & By participating in this survey, you agree to provide as honest answers as possible. Any responses you provide will be anonymized, so neither the research team nor additional respondents will know which one is yours.\n\nBy \nselecting “I agree”, you agree to the terms described above and confirm that you are at least 18 years of age. & 1 & 0\\\\\n\t 19 & By participating in this survey, you agree to provide as honest answers as possible. Any responses you provide will be anonymized, so neither the research team nor additional respondents will know which one is yours.\n\nBy \nselecting “I agree”, you agree to the terms described above and confirm that you are at least 18 years of age. & 1 & 0\\\\\n\t 20 & By participating in this survey, you agree to provide as honest answers as possible. Any responses you provide will be anonymized, so neither the research team nor additional respondents will know which one is yours.\n\nBy \nselecting “I agree”, you agree to the terms described above and confirm that you are at least 18 years of age. & 1 & 0\\\\\n\t 21 & By participating in this survey, you agree to provide as honest answers as possible. Any responses you provide will be anonymized, so neither the research team nor additional respondents will know which one is yours.\n\nBy \nselecting “I agree”, you agree to the terms described above and confirm that you are at least 18 years of age. & 1 & 0\\\\\n\t 22 & By participating in this survey, you agree to provide as honest answers as possible. Any responses you provide will be anonymized, so neither the research team nor additional respondents will know which one is yours.\n\nBy \nselecting “I agree”, you agree to the terms described above and confirm that you are at least 18 years of age. & 1 & 0\\\\\n\t 23 & By participating in this survey, you agree to provide as honest answers as possible. Any responses you provide will be anonymized, so neither the research team nor additional respondents will know which one is yours.\n\nBy \nselecting “I agree”, you agree to the terms described above and confirm that you are at least 18 years of age. & 1 & 0\\\\\n\t 24 & By participating in this survey, you agree to provide as honest answers as possible. Any responses you provide will be anonymized, so neither the research team nor additional respondents will know which one is yours.\n\nBy \nselecting “I agree”, you agree to the terms described above and confirm that you are at least 18 years of age. & 1 & 0\\\\\n\t 25 & By participating in this survey, you agree to provide as honest answers as possible. Any responses you provide will be anonymized, so neither the research team nor additional respondents will know which one is yours.\n\nBy \nselecting “I agree”, you agree to the terms described above and confirm that you are at least 18 years of age. & 1 & 0\\\\\n\t 26 & By participating in this survey, you agree to provide as honest answers as possible. Any responses you provide will be anonymized, so neither the research team nor additional respondents will know which one is yours.\n\nBy \nselecting “I agree”, you agree to the terms described above and confirm that you are at least 18 years of age. & 1 & 0\\\\\n\t 27 & By participating in this survey, you agree to provide as honest answers as possible. Any responses you provide will be anonymized, so neither the research team nor additional respondents will know which one is yours.\n\nBy \nselecting “I agree”, you agree to the terms described above and confirm that you are at least 18 years of age. & 1 & 0\\\\\n\t 28 & By participating in this survey, you agree to provide as honest answers as possible. Any responses you provide will be anonymized, so neither the research team nor additional respondents will know which one is yours.\n\nBy \nselecting “I agree”, you agree to the terms described above and confirm that you are at least 18 years of age. & 1 & 0\\\\\n\t 29 & By participating in this survey, you agree to provide as honest answers as possible. Any responses you provide will be anonymized, so neither the research team nor additional respondents will know which one is yours.\n\nBy \nselecting “I agree”, you agree to the terms described above and confirm that you are at least 18 years of age. & 1 & 0\\\\\n\t ⋮ & ⋮ & ⋮ & ⋮\\\\\n\t 10 & AI filler 5 - Click to write Choice 1 & 2 & 1\\\\\n\t 14 & AI filler 5 - Click to write Choice 1 & 1 & 1\\\\\n\t 18 & AI filler 5 - Click to write Choice 1 & 3 & 1\\\\\n\t 19 & AI filler 5 - Click to write Choice 1 & 4 & 1\\\\\n\t 21 & AI filler 5 - Click to write Choice 1 & 1 & 1\\\\\n\t 27 & AI filler 5 - Click to write Choice 1 & 2 & 1\\\\\n\t 28 & AI filler 5 - Click to write Choice 1 & 1 & 1\\\\\n\t 30 & AI filler 5 - Click to write Choice 1 & 3 & 1\\\\\n\t 31 & AI filler 5 - Click to write Choice 1 & 5 & 1\\\\\n\t 32 & AI filler 5 - Click to write Choice 1 & 4 & 1\\\\\n\t 33 & AI filler 5 - Click to write Choice 1 & 3 & 1\\\\\n\t 34 & AI filler 5 - Click to write Choice 1 & 4 & 1\\\\\n\t 36 & AI filler 5 - Click to write Choice 1 & 1 & 1\\\\\n\t 38 & AI filler 5 - Click to write Choice 1 & 5 & 1\\\\\n\t  6 & AI q1 - Click to write Choice 1       & 4 & 1\\\\\n\t  8 & AI q1 - Click to write Choice 1       & 5 & 1\\\\\n\t 10 & AI q1 - Click to write Choice 1       & 4 & 1\\\\\n\t 14 & AI q1 - Click to write Choice 1       & 2 & 1\\\\\n\t 18 & AI q1 - Click to write Choice 1       & 4 & 1\\\\\n\t 19 & AI q1 - Click to write Choice 1       & 5 & 1\\\\\n\t 21 & AI q1 - Click to write Choice 1       & 4 & 1\\\\\n\t 27 & AI q1 - Click to write Choice 1       & 5 & 1\\\\\n\t 28 & AI q1 - Click to write Choice 1       & 3 & 1\\\\\n\t 30 & AI q1 - Click to write Choice 1       & 3 & 1\\\\\n\t 31 & AI q1 - Click to write Choice 1       & 5 & 1\\\\\n\t 32 & AI q1 - Click to write Choice 1       & 4 & 1\\\\\n\t 33 & AI q1 - Click to write Choice 1       & 5 & 1\\\\\n\t 34 & AI q1 - Click to write Choice 1       & 5 & 1\\\\\n\t 36 & AI q1 - Click to write Choice 1       & 2 & 1\\\\\n\t 38 & AI q1 - Click to write Choice 1       & 3 & 1\\\\\n\\end{tabular}\n"
          },
          "metadata": {}
        }
      ]
    },
    {
      "cell_type": "code",
      "source": [
        "colnames(datafile)[1]<-'response'"
      ],
      "metadata": {
        "id": "LN91SWOcOjzy"
      },
      "execution_count": null,
      "outputs": []
    },
    {
      "cell_type": "code",
      "execution_count": null,
      "metadata": {
        "id": "f9xHsiiONpwD"
      },
      "outputs": [],
      "source": [
        " model_name <-polr(as.factor(Answer) ~ is_AI, data = datafile)"
      ]
    },
    {
      "cell_type": "code",
      "source": [
        "summary(model_name)"
      ],
      "metadata": {
        "colab": {
          "base_uri": "https://localhost:8080/",
          "height": 364
        },
        "id": "OvbwAalaPa_e",
        "outputId": "e7f09bb4-981e-426c-b968-e004b3c0f704"
      },
      "execution_count": null,
      "outputs": [
        {
          "output_type": "stream",
          "name": "stderr",
          "text": [
            "\n",
            "Re-fitting to get Hessian\n",
            "\n",
            "\n"
          ]
        },
        {
          "output_type": "display_data",
          "data": {
            "text/plain": [
              "Call:\n",
              "polr(formula = as.factor(Answer) ~ is_AI, data = datafile)\n",
              "\n",
              "Coefficients:\n",
              "       Value Std. Error t value\n",
              "is_AI 0.5576     0.1588   3.511\n",
              "\n",
              "Intercepts:\n",
              "    Value   Std. Error t value\n",
              "1|2 -0.8675  0.1182    -7.3373\n",
              "2|3 -0.1192  0.1116    -1.0675\n",
              "3|4  0.5470  0.1142     4.7885\n",
              "4|5  1.3217  0.1256    10.5200\n",
              "\n",
              "Residual Deviance: 1633.002 \n",
              "AIC: 1643.002 "
            ]
          },
          "metadata": {}
        }
      ]
    },
    {
      "cell_type": "code",
      "source": [
        "datafile<-read_csv('/content/processed.csv')\n",
        "View(datafile)"
      ],
      "metadata": {
        "colab": {
          "base_uri": "https://localhost:8080/",
          "height": 1000
        },
        "id": "zDd4hs2dAtJa",
        "outputId": "35f54545-900f-4d02-e9b7-6d880309ec7a"
      },
      "execution_count": null,
      "outputs": [
        {
          "output_type": "stream",
          "name": "stderr",
          "text": [
            "\u001b[1mRows: \u001b[22m\u001b[34m310\u001b[39m \u001b[1mColumns: \u001b[22m\u001b[34m4\u001b[39m\n",
            "\u001b[36m──\u001b[39m \u001b[1mColumn specification\u001b[22m \u001b[36m────────────────────────────────────────────────────────\u001b[39m\n",
            "\u001b[1mDelimiter:\u001b[22m \",\"\n",
            "\u001b[31mchr\u001b[39m (1): Question ID\n",
            "\u001b[32mdbl\u001b[39m (3): Response ID, Answer, is_AI\n",
            "\n",
            "\u001b[36mℹ\u001b[39m Use `spec()` to retrieve the full column specification for this data.\n",
            "\u001b[36mℹ\u001b[39m Specify the column types or set `show_col_types = FALSE` to quiet this message.\n"
          ]
        },
        {
          "output_type": "display_data",
          "data": {
            "text/plain": [
              "    Response ID Question ID                        Answer is_AI\n",
              "1    3          Is your birthday an even number?   2      0    \n",
              "2    4          Is your birthday an even number?   1      0    \n",
              "3    5          Is your birthday an even number?   1      0    \n",
              "4    6          Is your birthday an even number?   2      0    \n",
              "5    7          Is your birthday an even number?   1      0    \n",
              "6    8          Is your birthday an even number?   2      0    \n",
              "7    9          Is your birthday an even number?   1      0    \n",
              "8   10          Is your birthday an even number?   2      0    \n",
              "9   11          Is your birthday an even number?   1      0    \n",
              "10  12          Is your birthday an even number?   1      0    \n",
              "11  13          Is your birthday an even number?   1      0    \n",
              "12  14          Is your birthday an even number?   2      0    \n",
              "13  15          Is your birthday an even number?   1      0    \n",
              "14  16          Is your birthday an even number?   1      0    \n",
              "15  17          Is your birthday an even number?   1      0    \n",
              "16  18          Is your birthday an even number?   2      0    \n",
              "17  19          Is your birthday an even number?   2      0    \n",
              "18  20          Is your birthday an even number?   1      0    \n",
              "19  21          Is your birthday an even number?   2      0    \n",
              "20  22          Is your birthday an even number?   1      0    \n",
              "21  23          Is your birthday an even number?   1      0    \n",
              "22  24          Is your birthday an even number?   1      0    \n",
              "23  25          Is your birthday an even number?   1      0    \n",
              "24  26          Is your birthday an even number?   1      0    \n",
              "25  27          Is your birthday an even number?   2      0    \n",
              "26  28          Is your birthday an even number?   2      0    \n",
              "27  29          Is your birthday an even number?   1      0    \n",
              "28  30          Is your birthday an even number?   2      0    \n",
              "29  31          Is your birthday an even number?   2      0    \n",
              "30  32          Is your birthday an even number?   2      0    \n",
              "⋮   ⋮           ⋮                                  ⋮      ⋮    \n",
              "281 10          human q8 - Click to write Choice 1 3      0    \n",
              "282 14          human q8 - Click to write Choice 1 2      0    \n",
              "283 18          human q8 - Click to write Choice 1 4      0    \n",
              "284 19          human q8 - Click to write Choice 1 5      0    \n",
              "285 21          human q8 - Click to write Choice 1 2      0    \n",
              "286 27          human q8 - Click to write Choice 1 1      0    \n",
              "287 28          human q8 - Click to write Choice 1 1      0    \n",
              "288 30          human q8 - Click to write Choice 1 2      0    \n",
              "289 31          human q8 - Click to write Choice 1 5      0    \n",
              "290 32          human q8 - Click to write Choice 1 5      0    \n",
              "291 33          human q8 - Click to write Choice 1 3      0    \n",
              "292 34          human q8 - Click to write Choice 1 4      0    \n",
              "293 36          human q8 - Click to write Choice 1 2      0    \n",
              "294 38          human q8 - Click to write Choice 1 5      0    \n",
              "295  6          AI q1 - Click to write Choice 1    4      1    \n",
              "296  8          AI q1 - Click to write Choice 1    5      1    \n",
              "297 10          AI q1 - Click to write Choice 1    4      1    \n",
              "298 14          AI q1 - Click to write Choice 1    2      1    \n",
              "299 18          AI q1 - Click to write Choice 1    4      1    \n",
              "300 19          AI q1 - Click to write Choice 1    5      1    \n",
              "301 21          AI q1 - Click to write Choice 1    4      1    \n",
              "302 27          AI q1 - Click to write Choice 1    5      1    \n",
              "303 28          AI q1 - Click to write Choice 1    3      1    \n",
              "304 30          AI q1 - Click to write Choice 1    3      1    \n",
              "305 31          AI q1 - Click to write Choice 1    5      1    \n",
              "306 32          AI q1 - Click to write Choice 1    4      1    \n",
              "307 33          AI q1 - Click to write Choice 1    5      1    \n",
              "308 34          AI q1 - Click to write Choice 1    5      1    \n",
              "309 36          AI q1 - Click to write Choice 1    2      1    \n",
              "310 38          AI q1 - Click to write Choice 1    3      1    "
            ],
            "text/html": [
              "<table class=\"dataframe\">\n",
              "<caption>A spec_tbl_df: 310 × 4</caption>\n",
              "<thead>\n",
              "\t<tr><th scope=col>Response ID</th><th scope=col>Question ID</th><th scope=col>Answer</th><th scope=col>is_AI</th></tr>\n",
              "\t<tr><th scope=col>&lt;dbl&gt;</th><th scope=col>&lt;chr&gt;</th><th scope=col>&lt;dbl&gt;</th><th scope=col>&lt;dbl&gt;</th></tr>\n",
              "</thead>\n",
              "<tbody>\n",
              "\t<tr><td> 3</td><td>Is your birthday an even number?</td><td>2</td><td>0</td></tr>\n",
              "\t<tr><td> 4</td><td>Is your birthday an even number?</td><td>1</td><td>0</td></tr>\n",
              "\t<tr><td> 5</td><td>Is your birthday an even number?</td><td>1</td><td>0</td></tr>\n",
              "\t<tr><td> 6</td><td>Is your birthday an even number?</td><td>2</td><td>0</td></tr>\n",
              "\t<tr><td> 7</td><td>Is your birthday an even number?</td><td>1</td><td>0</td></tr>\n",
              "\t<tr><td> 8</td><td>Is your birthday an even number?</td><td>2</td><td>0</td></tr>\n",
              "\t<tr><td> 9</td><td>Is your birthday an even number?</td><td>1</td><td>0</td></tr>\n",
              "\t<tr><td>10</td><td>Is your birthday an even number?</td><td>2</td><td>0</td></tr>\n",
              "\t<tr><td>11</td><td>Is your birthday an even number?</td><td>1</td><td>0</td></tr>\n",
              "\t<tr><td>12</td><td>Is your birthday an even number?</td><td>1</td><td>0</td></tr>\n",
              "\t<tr><td>13</td><td>Is your birthday an even number?</td><td>1</td><td>0</td></tr>\n",
              "\t<tr><td>14</td><td>Is your birthday an even number?</td><td>2</td><td>0</td></tr>\n",
              "\t<tr><td>15</td><td>Is your birthday an even number?</td><td>1</td><td>0</td></tr>\n",
              "\t<tr><td>16</td><td>Is your birthday an even number?</td><td>1</td><td>0</td></tr>\n",
              "\t<tr><td>17</td><td>Is your birthday an even number?</td><td>1</td><td>0</td></tr>\n",
              "\t<tr><td>18</td><td>Is your birthday an even number?</td><td>2</td><td>0</td></tr>\n",
              "\t<tr><td>19</td><td>Is your birthday an even number?</td><td>2</td><td>0</td></tr>\n",
              "\t<tr><td>20</td><td>Is your birthday an even number?</td><td>1</td><td>0</td></tr>\n",
              "\t<tr><td>21</td><td>Is your birthday an even number?</td><td>2</td><td>0</td></tr>\n",
              "\t<tr><td>22</td><td>Is your birthday an even number?</td><td>1</td><td>0</td></tr>\n",
              "\t<tr><td>23</td><td>Is your birthday an even number?</td><td>1</td><td>0</td></tr>\n",
              "\t<tr><td>24</td><td>Is your birthday an even number?</td><td>1</td><td>0</td></tr>\n",
              "\t<tr><td>25</td><td>Is your birthday an even number?</td><td>1</td><td>0</td></tr>\n",
              "\t<tr><td>26</td><td>Is your birthday an even number?</td><td>1</td><td>0</td></tr>\n",
              "\t<tr><td>27</td><td>Is your birthday an even number?</td><td>2</td><td>0</td></tr>\n",
              "\t<tr><td>28</td><td>Is your birthday an even number?</td><td>2</td><td>0</td></tr>\n",
              "\t<tr><td>29</td><td>Is your birthday an even number?</td><td>1</td><td>0</td></tr>\n",
              "\t<tr><td>30</td><td>Is your birthday an even number?</td><td>2</td><td>0</td></tr>\n",
              "\t<tr><td>31</td><td>Is your birthday an even number?</td><td>2</td><td>0</td></tr>\n",
              "\t<tr><td>32</td><td>Is your birthday an even number?</td><td>2</td><td>0</td></tr>\n",
              "\t<tr><td>⋮</td><td>⋮</td><td>⋮</td><td>⋮</td></tr>\n",
              "\t<tr><td>10</td><td>human q8 - Click to write Choice 1</td><td>3</td><td>0</td></tr>\n",
              "\t<tr><td>14</td><td>human q8 - Click to write Choice 1</td><td>2</td><td>0</td></tr>\n",
              "\t<tr><td>18</td><td>human q8 - Click to write Choice 1</td><td>4</td><td>0</td></tr>\n",
              "\t<tr><td>19</td><td>human q8 - Click to write Choice 1</td><td>5</td><td>0</td></tr>\n",
              "\t<tr><td>21</td><td>human q8 - Click to write Choice 1</td><td>2</td><td>0</td></tr>\n",
              "\t<tr><td>27</td><td>human q8 - Click to write Choice 1</td><td>1</td><td>0</td></tr>\n",
              "\t<tr><td>28</td><td>human q8 - Click to write Choice 1</td><td>1</td><td>0</td></tr>\n",
              "\t<tr><td>30</td><td>human q8 - Click to write Choice 1</td><td>2</td><td>0</td></tr>\n",
              "\t<tr><td>31</td><td>human q8 - Click to write Choice 1</td><td>5</td><td>0</td></tr>\n",
              "\t<tr><td>32</td><td>human q8 - Click to write Choice 1</td><td>5</td><td>0</td></tr>\n",
              "\t<tr><td>33</td><td>human q8 - Click to write Choice 1</td><td>3</td><td>0</td></tr>\n",
              "\t<tr><td>34</td><td>human q8 - Click to write Choice 1</td><td>4</td><td>0</td></tr>\n",
              "\t<tr><td>36</td><td>human q8 - Click to write Choice 1</td><td>2</td><td>0</td></tr>\n",
              "\t<tr><td>38</td><td>human q8 - Click to write Choice 1</td><td>5</td><td>0</td></tr>\n",
              "\t<tr><td> 6</td><td>AI q1 - Click to write Choice 1   </td><td>4</td><td>1</td></tr>\n",
              "\t<tr><td> 8</td><td>AI q1 - Click to write Choice 1   </td><td>5</td><td>1</td></tr>\n",
              "\t<tr><td>10</td><td>AI q1 - Click to write Choice 1   </td><td>4</td><td>1</td></tr>\n",
              "\t<tr><td>14</td><td>AI q1 - Click to write Choice 1   </td><td>2</td><td>1</td></tr>\n",
              "\t<tr><td>18</td><td>AI q1 - Click to write Choice 1   </td><td>4</td><td>1</td></tr>\n",
              "\t<tr><td>19</td><td>AI q1 - Click to write Choice 1   </td><td>5</td><td>1</td></tr>\n",
              "\t<tr><td>21</td><td>AI q1 - Click to write Choice 1   </td><td>4</td><td>1</td></tr>\n",
              "\t<tr><td>27</td><td>AI q1 - Click to write Choice 1   </td><td>5</td><td>1</td></tr>\n",
              "\t<tr><td>28</td><td>AI q1 - Click to write Choice 1   </td><td>3</td><td>1</td></tr>\n",
              "\t<tr><td>30</td><td>AI q1 - Click to write Choice 1   </td><td>3</td><td>1</td></tr>\n",
              "\t<tr><td>31</td><td>AI q1 - Click to write Choice 1   </td><td>5</td><td>1</td></tr>\n",
              "\t<tr><td>32</td><td>AI q1 - Click to write Choice 1   </td><td>4</td><td>1</td></tr>\n",
              "\t<tr><td>33</td><td>AI q1 - Click to write Choice 1   </td><td>5</td><td>1</td></tr>\n",
              "\t<tr><td>34</td><td>AI q1 - Click to write Choice 1   </td><td>5</td><td>1</td></tr>\n",
              "\t<tr><td>36</td><td>AI q1 - Click to write Choice 1   </td><td>2</td><td>1</td></tr>\n",
              "\t<tr><td>38</td><td>AI q1 - Click to write Choice 1   </td><td>3</td><td>1</td></tr>\n",
              "</tbody>\n",
              "</table>\n"
            ],
            "text/markdown": "\nA spec_tbl_df: 310 × 4\n\n| Response ID &lt;dbl&gt; | Question ID &lt;chr&gt; | Answer &lt;dbl&gt; | is_AI &lt;dbl&gt; |\n|---|---|---|---|\n|  3 | Is your birthday an even number? | 2 | 0 |\n|  4 | Is your birthday an even number? | 1 | 0 |\n|  5 | Is your birthday an even number? | 1 | 0 |\n|  6 | Is your birthday an even number? | 2 | 0 |\n|  7 | Is your birthday an even number? | 1 | 0 |\n|  8 | Is your birthday an even number? | 2 | 0 |\n|  9 | Is your birthday an even number? | 1 | 0 |\n| 10 | Is your birthday an even number? | 2 | 0 |\n| 11 | Is your birthday an even number? | 1 | 0 |\n| 12 | Is your birthday an even number? | 1 | 0 |\n| 13 | Is your birthday an even number? | 1 | 0 |\n| 14 | Is your birthday an even number? | 2 | 0 |\n| 15 | Is your birthday an even number? | 1 | 0 |\n| 16 | Is your birthday an even number? | 1 | 0 |\n| 17 | Is your birthday an even number? | 1 | 0 |\n| 18 | Is your birthday an even number? | 2 | 0 |\n| 19 | Is your birthday an even number? | 2 | 0 |\n| 20 | Is your birthday an even number? | 1 | 0 |\n| 21 | Is your birthday an even number? | 2 | 0 |\n| 22 | Is your birthday an even number? | 1 | 0 |\n| 23 | Is your birthday an even number? | 1 | 0 |\n| 24 | Is your birthday an even number? | 1 | 0 |\n| 25 | Is your birthday an even number? | 1 | 0 |\n| 26 | Is your birthday an even number? | 1 | 0 |\n| 27 | Is your birthday an even number? | 2 | 0 |\n| 28 | Is your birthday an even number? | 2 | 0 |\n| 29 | Is your birthday an even number? | 1 | 0 |\n| 30 | Is your birthday an even number? | 2 | 0 |\n| 31 | Is your birthday an even number? | 2 | 0 |\n| 32 | Is your birthday an even number? | 2 | 0 |\n| ⋮ | ⋮ | ⋮ | ⋮ |\n| 10 | human q8 - Click to write Choice 1 | 3 | 0 |\n| 14 | human q8 - Click to write Choice 1 | 2 | 0 |\n| 18 | human q8 - Click to write Choice 1 | 4 | 0 |\n| 19 | human q8 - Click to write Choice 1 | 5 | 0 |\n| 21 | human q8 - Click to write Choice 1 | 2 | 0 |\n| 27 | human q8 - Click to write Choice 1 | 1 | 0 |\n| 28 | human q8 - Click to write Choice 1 | 1 | 0 |\n| 30 | human q8 - Click to write Choice 1 | 2 | 0 |\n| 31 | human q8 - Click to write Choice 1 | 5 | 0 |\n| 32 | human q8 - Click to write Choice 1 | 5 | 0 |\n| 33 | human q8 - Click to write Choice 1 | 3 | 0 |\n| 34 | human q8 - Click to write Choice 1 | 4 | 0 |\n| 36 | human q8 - Click to write Choice 1 | 2 | 0 |\n| 38 | human q8 - Click to write Choice 1 | 5 | 0 |\n|  6 | AI q1 - Click to write Choice 1    | 4 | 1 |\n|  8 | AI q1 - Click to write Choice 1    | 5 | 1 |\n| 10 | AI q1 - Click to write Choice 1    | 4 | 1 |\n| 14 | AI q1 - Click to write Choice 1    | 2 | 1 |\n| 18 | AI q1 - Click to write Choice 1    | 4 | 1 |\n| 19 | AI q1 - Click to write Choice 1    | 5 | 1 |\n| 21 | AI q1 - Click to write Choice 1    | 4 | 1 |\n| 27 | AI q1 - Click to write Choice 1    | 5 | 1 |\n| 28 | AI q1 - Click to write Choice 1    | 3 | 1 |\n| 30 | AI q1 - Click to write Choice 1    | 3 | 1 |\n| 31 | AI q1 - Click to write Choice 1    | 5 | 1 |\n| 32 | AI q1 - Click to write Choice 1    | 4 | 1 |\n| 33 | AI q1 - Click to write Choice 1    | 5 | 1 |\n| 34 | AI q1 - Click to write Choice 1    | 5 | 1 |\n| 36 | AI q1 - Click to write Choice 1    | 2 | 1 |\n| 38 | AI q1 - Click to write Choice 1    | 3 | 1 |\n\n",
            "text/latex": "A spec\\_tbl\\_df: 310 × 4\n\\begin{tabular}{llll}\n Response ID & Question ID & Answer & is\\_AI\\\\\n <dbl> & <chr> & <dbl> & <dbl>\\\\\n\\hline\n\t  3 & Is your birthday an even number? & 2 & 0\\\\\n\t  4 & Is your birthday an even number? & 1 & 0\\\\\n\t  5 & Is your birthday an even number? & 1 & 0\\\\\n\t  6 & Is your birthday an even number? & 2 & 0\\\\\n\t  7 & Is your birthday an even number? & 1 & 0\\\\\n\t  8 & Is your birthday an even number? & 2 & 0\\\\\n\t  9 & Is your birthday an even number? & 1 & 0\\\\\n\t 10 & Is your birthday an even number? & 2 & 0\\\\\n\t 11 & Is your birthday an even number? & 1 & 0\\\\\n\t 12 & Is your birthday an even number? & 1 & 0\\\\\n\t 13 & Is your birthday an even number? & 1 & 0\\\\\n\t 14 & Is your birthday an even number? & 2 & 0\\\\\n\t 15 & Is your birthday an even number? & 1 & 0\\\\\n\t 16 & Is your birthday an even number? & 1 & 0\\\\\n\t 17 & Is your birthday an even number? & 1 & 0\\\\\n\t 18 & Is your birthday an even number? & 2 & 0\\\\\n\t 19 & Is your birthday an even number? & 2 & 0\\\\\n\t 20 & Is your birthday an even number? & 1 & 0\\\\\n\t 21 & Is your birthday an even number? & 2 & 0\\\\\n\t 22 & Is your birthday an even number? & 1 & 0\\\\\n\t 23 & Is your birthday an even number? & 1 & 0\\\\\n\t 24 & Is your birthday an even number? & 1 & 0\\\\\n\t 25 & Is your birthday an even number? & 1 & 0\\\\\n\t 26 & Is your birthday an even number? & 1 & 0\\\\\n\t 27 & Is your birthday an even number? & 2 & 0\\\\\n\t 28 & Is your birthday an even number? & 2 & 0\\\\\n\t 29 & Is your birthday an even number? & 1 & 0\\\\\n\t 30 & Is your birthday an even number? & 2 & 0\\\\\n\t 31 & Is your birthday an even number? & 2 & 0\\\\\n\t 32 & Is your birthday an even number? & 2 & 0\\\\\n\t ⋮ & ⋮ & ⋮ & ⋮\\\\\n\t 10 & human q8 - Click to write Choice 1 & 3 & 0\\\\\n\t 14 & human q8 - Click to write Choice 1 & 2 & 0\\\\\n\t 18 & human q8 - Click to write Choice 1 & 4 & 0\\\\\n\t 19 & human q8 - Click to write Choice 1 & 5 & 0\\\\\n\t 21 & human q8 - Click to write Choice 1 & 2 & 0\\\\\n\t 27 & human q8 - Click to write Choice 1 & 1 & 0\\\\\n\t 28 & human q8 - Click to write Choice 1 & 1 & 0\\\\\n\t 30 & human q8 - Click to write Choice 1 & 2 & 0\\\\\n\t 31 & human q8 - Click to write Choice 1 & 5 & 0\\\\\n\t 32 & human q8 - Click to write Choice 1 & 5 & 0\\\\\n\t 33 & human q8 - Click to write Choice 1 & 3 & 0\\\\\n\t 34 & human q8 - Click to write Choice 1 & 4 & 0\\\\\n\t 36 & human q8 - Click to write Choice 1 & 2 & 0\\\\\n\t 38 & human q8 - Click to write Choice 1 & 5 & 0\\\\\n\t  6 & AI q1 - Click to write Choice 1    & 4 & 1\\\\\n\t  8 & AI q1 - Click to write Choice 1    & 5 & 1\\\\\n\t 10 & AI q1 - Click to write Choice 1    & 4 & 1\\\\\n\t 14 & AI q1 - Click to write Choice 1    & 2 & 1\\\\\n\t 18 & AI q1 - Click to write Choice 1    & 4 & 1\\\\\n\t 19 & AI q1 - Click to write Choice 1    & 5 & 1\\\\\n\t 21 & AI q1 - Click to write Choice 1    & 4 & 1\\\\\n\t 27 & AI q1 - Click to write Choice 1    & 5 & 1\\\\\n\t 28 & AI q1 - Click to write Choice 1    & 3 & 1\\\\\n\t 30 & AI q1 - Click to write Choice 1    & 3 & 1\\\\\n\t 31 & AI q1 - Click to write Choice 1    & 5 & 1\\\\\n\t 32 & AI q1 - Click to write Choice 1    & 4 & 1\\\\\n\t 33 & AI q1 - Click to write Choice 1    & 5 & 1\\\\\n\t 34 & AI q1 - Click to write Choice 1    & 5 & 1\\\\\n\t 36 & AI q1 - Click to write Choice 1    & 2 & 1\\\\\n\t 38 & AI q1 - Click to write Choice 1    & 3 & 1\\\\\n\\end{tabular}\n"
          },
          "metadata": {}
        }
      ]
    },
    {
      "cell_type": "code",
      "source": [
        "install.packages('ordinal')"
      ],
      "metadata": {
        "colab": {
          "base_uri": "https://localhost:8080/"
        },
        "id": "xjuE2xbAA9KI",
        "outputId": "cb13d587-a975-409c-dfa1-d8448a62181b"
      },
      "execution_count": null,
      "outputs": [
        {
          "output_type": "stream",
          "name": "stderr",
          "text": [
            "Installing package into ‘/usr/local/lib/R/site-library’\n",
            "(as ‘lib’ is unspecified)\n",
            "\n",
            "also installing the dependencies ‘ucminf’, ‘numDeriv’\n",
            "\n",
            "\n"
          ]
        }
      ]
    },
    {
      "cell_type": "code",
      "source": [
        "library(ordinal)"
      ],
      "metadata": {
        "colab": {
          "base_uri": "https://localhost:8080/"
        },
        "id": "ZZK2dSmIBDNA",
        "outputId": "8dd420f2-6fcd-4e16-bcef-73f066abbbcc"
      },
      "execution_count": null,
      "outputs": [
        {
          "output_type": "stream",
          "name": "stderr",
          "text": [
            "\n",
            "Attaching package: ‘ordinal’\n",
            "\n",
            "\n",
            "The following object is masked from ‘package:dplyr’:\n",
            "\n",
            "    slice\n",
            "\n",
            "\n"
          ]
        }
      ]
    },
    {
      "cell_type": "code",
      "source": [
        "colnames(datafile)[1]<-'response'"
      ],
      "metadata": {
        "id": "XJhv0rcZBoGz"
      },
      "execution_count": null,
      "outputs": []
    },
    {
      "cell_type": "code",
      "source": [
        "View(datafile)"
      ],
      "metadata": {
        "colab": {
          "base_uri": "https://localhost:8080/",
          "height": 1000
        },
        "id": "Pgnro6svBxgF",
        "outputId": "57dd5142-b657-4a81-ec46-28a2b88b1cdd"
      },
      "execution_count": null,
      "outputs": [
        {
          "output_type": "display_data",
          "data": {
            "text/plain": [
              "    response Question ID                        Answer is_AI\n",
              "1    3       Is your birthday an even number?   2      0    \n",
              "2    4       Is your birthday an even number?   1      0    \n",
              "3    5       Is your birthday an even number?   1      0    \n",
              "4    6       Is your birthday an even number?   2      0    \n",
              "5    7       Is your birthday an even number?   1      0    \n",
              "6    8       Is your birthday an even number?   2      0    \n",
              "7    9       Is your birthday an even number?   1      0    \n",
              "8   10       Is your birthday an even number?   2      0    \n",
              "9   11       Is your birthday an even number?   1      0    \n",
              "10  12       Is your birthday an even number?   1      0    \n",
              "11  13       Is your birthday an even number?   1      0    \n",
              "12  14       Is your birthday an even number?   2      0    \n",
              "13  15       Is your birthday an even number?   1      0    \n",
              "14  16       Is your birthday an even number?   1      0    \n",
              "15  17       Is your birthday an even number?   1      0    \n",
              "16  18       Is your birthday an even number?   2      0    \n",
              "17  19       Is your birthday an even number?   2      0    \n",
              "18  20       Is your birthday an even number?   1      0    \n",
              "19  21       Is your birthday an even number?   2      0    \n",
              "20  22       Is your birthday an even number?   1      0    \n",
              "21  23       Is your birthday an even number?   1      0    \n",
              "22  24       Is your birthday an even number?   1      0    \n",
              "23  25       Is your birthday an even number?   1      0    \n",
              "24  26       Is your birthday an even number?   1      0    \n",
              "25  27       Is your birthday an even number?   2      0    \n",
              "26  28       Is your birthday an even number?   2      0    \n",
              "27  29       Is your birthday an even number?   1      0    \n",
              "28  30       Is your birthday an even number?   2      0    \n",
              "29  31       Is your birthday an even number?   2      0    \n",
              "30  32       Is your birthday an even number?   2      0    \n",
              "⋮   ⋮        ⋮                                  ⋮      ⋮    \n",
              "281 10       human q8 - Click to write Choice 1 3      0    \n",
              "282 14       human q8 - Click to write Choice 1 2      0    \n",
              "283 18       human q8 - Click to write Choice 1 4      0    \n",
              "284 19       human q8 - Click to write Choice 1 5      0    \n",
              "285 21       human q8 - Click to write Choice 1 2      0    \n",
              "286 27       human q8 - Click to write Choice 1 1      0    \n",
              "287 28       human q8 - Click to write Choice 1 1      0    \n",
              "288 30       human q8 - Click to write Choice 1 2      0    \n",
              "289 31       human q8 - Click to write Choice 1 5      0    \n",
              "290 32       human q8 - Click to write Choice 1 5      0    \n",
              "291 33       human q8 - Click to write Choice 1 3      0    \n",
              "292 34       human q8 - Click to write Choice 1 4      0    \n",
              "293 36       human q8 - Click to write Choice 1 2      0    \n",
              "294 38       human q8 - Click to write Choice 1 5      0    \n",
              "295  6       AI q1 - Click to write Choice 1    4      1    \n",
              "296  8       AI q1 - Click to write Choice 1    5      1    \n",
              "297 10       AI q1 - Click to write Choice 1    4      1    \n",
              "298 14       AI q1 - Click to write Choice 1    2      1    \n",
              "299 18       AI q1 - Click to write Choice 1    4      1    \n",
              "300 19       AI q1 - Click to write Choice 1    5      1    \n",
              "301 21       AI q1 - Click to write Choice 1    4      1    \n",
              "302 27       AI q1 - Click to write Choice 1    5      1    \n",
              "303 28       AI q1 - Click to write Choice 1    3      1    \n",
              "304 30       AI q1 - Click to write Choice 1    3      1    \n",
              "305 31       AI q1 - Click to write Choice 1    5      1    \n",
              "306 32       AI q1 - Click to write Choice 1    4      1    \n",
              "307 33       AI q1 - Click to write Choice 1    5      1    \n",
              "308 34       AI q1 - Click to write Choice 1    5      1    \n",
              "309 36       AI q1 - Click to write Choice 1    2      1    \n",
              "310 38       AI q1 - Click to write Choice 1    3      1    "
            ],
            "text/html": [
              "<table class=\"dataframe\">\n",
              "<caption>A spec_tbl_df: 310 × 4</caption>\n",
              "<thead>\n",
              "\t<tr><th scope=col>response</th><th scope=col>Question ID</th><th scope=col>Answer</th><th scope=col>is_AI</th></tr>\n",
              "\t<tr><th scope=col>&lt;dbl&gt;</th><th scope=col>&lt;chr&gt;</th><th scope=col>&lt;dbl&gt;</th><th scope=col>&lt;dbl&gt;</th></tr>\n",
              "</thead>\n",
              "<tbody>\n",
              "\t<tr><td> 3</td><td>Is your birthday an even number?</td><td>2</td><td>0</td></tr>\n",
              "\t<tr><td> 4</td><td>Is your birthday an even number?</td><td>1</td><td>0</td></tr>\n",
              "\t<tr><td> 5</td><td>Is your birthday an even number?</td><td>1</td><td>0</td></tr>\n",
              "\t<tr><td> 6</td><td>Is your birthday an even number?</td><td>2</td><td>0</td></tr>\n",
              "\t<tr><td> 7</td><td>Is your birthday an even number?</td><td>1</td><td>0</td></tr>\n",
              "\t<tr><td> 8</td><td>Is your birthday an even number?</td><td>2</td><td>0</td></tr>\n",
              "\t<tr><td> 9</td><td>Is your birthday an even number?</td><td>1</td><td>0</td></tr>\n",
              "\t<tr><td>10</td><td>Is your birthday an even number?</td><td>2</td><td>0</td></tr>\n",
              "\t<tr><td>11</td><td>Is your birthday an even number?</td><td>1</td><td>0</td></tr>\n",
              "\t<tr><td>12</td><td>Is your birthday an even number?</td><td>1</td><td>0</td></tr>\n",
              "\t<tr><td>13</td><td>Is your birthday an even number?</td><td>1</td><td>0</td></tr>\n",
              "\t<tr><td>14</td><td>Is your birthday an even number?</td><td>2</td><td>0</td></tr>\n",
              "\t<tr><td>15</td><td>Is your birthday an even number?</td><td>1</td><td>0</td></tr>\n",
              "\t<tr><td>16</td><td>Is your birthday an even number?</td><td>1</td><td>0</td></tr>\n",
              "\t<tr><td>17</td><td>Is your birthday an even number?</td><td>1</td><td>0</td></tr>\n",
              "\t<tr><td>18</td><td>Is your birthday an even number?</td><td>2</td><td>0</td></tr>\n",
              "\t<tr><td>19</td><td>Is your birthday an even number?</td><td>2</td><td>0</td></tr>\n",
              "\t<tr><td>20</td><td>Is your birthday an even number?</td><td>1</td><td>0</td></tr>\n",
              "\t<tr><td>21</td><td>Is your birthday an even number?</td><td>2</td><td>0</td></tr>\n",
              "\t<tr><td>22</td><td>Is your birthday an even number?</td><td>1</td><td>0</td></tr>\n",
              "\t<tr><td>23</td><td>Is your birthday an even number?</td><td>1</td><td>0</td></tr>\n",
              "\t<tr><td>24</td><td>Is your birthday an even number?</td><td>1</td><td>0</td></tr>\n",
              "\t<tr><td>25</td><td>Is your birthday an even number?</td><td>1</td><td>0</td></tr>\n",
              "\t<tr><td>26</td><td>Is your birthday an even number?</td><td>1</td><td>0</td></tr>\n",
              "\t<tr><td>27</td><td>Is your birthday an even number?</td><td>2</td><td>0</td></tr>\n",
              "\t<tr><td>28</td><td>Is your birthday an even number?</td><td>2</td><td>0</td></tr>\n",
              "\t<tr><td>29</td><td>Is your birthday an even number?</td><td>1</td><td>0</td></tr>\n",
              "\t<tr><td>30</td><td>Is your birthday an even number?</td><td>2</td><td>0</td></tr>\n",
              "\t<tr><td>31</td><td>Is your birthday an even number?</td><td>2</td><td>0</td></tr>\n",
              "\t<tr><td>32</td><td>Is your birthday an even number?</td><td>2</td><td>0</td></tr>\n",
              "\t<tr><td>⋮</td><td>⋮</td><td>⋮</td><td>⋮</td></tr>\n",
              "\t<tr><td>10</td><td>human q8 - Click to write Choice 1</td><td>3</td><td>0</td></tr>\n",
              "\t<tr><td>14</td><td>human q8 - Click to write Choice 1</td><td>2</td><td>0</td></tr>\n",
              "\t<tr><td>18</td><td>human q8 - Click to write Choice 1</td><td>4</td><td>0</td></tr>\n",
              "\t<tr><td>19</td><td>human q8 - Click to write Choice 1</td><td>5</td><td>0</td></tr>\n",
              "\t<tr><td>21</td><td>human q8 - Click to write Choice 1</td><td>2</td><td>0</td></tr>\n",
              "\t<tr><td>27</td><td>human q8 - Click to write Choice 1</td><td>1</td><td>0</td></tr>\n",
              "\t<tr><td>28</td><td>human q8 - Click to write Choice 1</td><td>1</td><td>0</td></tr>\n",
              "\t<tr><td>30</td><td>human q8 - Click to write Choice 1</td><td>2</td><td>0</td></tr>\n",
              "\t<tr><td>31</td><td>human q8 - Click to write Choice 1</td><td>5</td><td>0</td></tr>\n",
              "\t<tr><td>32</td><td>human q8 - Click to write Choice 1</td><td>5</td><td>0</td></tr>\n",
              "\t<tr><td>33</td><td>human q8 - Click to write Choice 1</td><td>3</td><td>0</td></tr>\n",
              "\t<tr><td>34</td><td>human q8 - Click to write Choice 1</td><td>4</td><td>0</td></tr>\n",
              "\t<tr><td>36</td><td>human q8 - Click to write Choice 1</td><td>2</td><td>0</td></tr>\n",
              "\t<tr><td>38</td><td>human q8 - Click to write Choice 1</td><td>5</td><td>0</td></tr>\n",
              "\t<tr><td> 6</td><td>AI q1 - Click to write Choice 1   </td><td>4</td><td>1</td></tr>\n",
              "\t<tr><td> 8</td><td>AI q1 - Click to write Choice 1   </td><td>5</td><td>1</td></tr>\n",
              "\t<tr><td>10</td><td>AI q1 - Click to write Choice 1   </td><td>4</td><td>1</td></tr>\n",
              "\t<tr><td>14</td><td>AI q1 - Click to write Choice 1   </td><td>2</td><td>1</td></tr>\n",
              "\t<tr><td>18</td><td>AI q1 - Click to write Choice 1   </td><td>4</td><td>1</td></tr>\n",
              "\t<tr><td>19</td><td>AI q1 - Click to write Choice 1   </td><td>5</td><td>1</td></tr>\n",
              "\t<tr><td>21</td><td>AI q1 - Click to write Choice 1   </td><td>4</td><td>1</td></tr>\n",
              "\t<tr><td>27</td><td>AI q1 - Click to write Choice 1   </td><td>5</td><td>1</td></tr>\n",
              "\t<tr><td>28</td><td>AI q1 - Click to write Choice 1   </td><td>3</td><td>1</td></tr>\n",
              "\t<tr><td>30</td><td>AI q1 - Click to write Choice 1   </td><td>3</td><td>1</td></tr>\n",
              "\t<tr><td>31</td><td>AI q1 - Click to write Choice 1   </td><td>5</td><td>1</td></tr>\n",
              "\t<tr><td>32</td><td>AI q1 - Click to write Choice 1   </td><td>4</td><td>1</td></tr>\n",
              "\t<tr><td>33</td><td>AI q1 - Click to write Choice 1   </td><td>5</td><td>1</td></tr>\n",
              "\t<tr><td>34</td><td>AI q1 - Click to write Choice 1   </td><td>5</td><td>1</td></tr>\n",
              "\t<tr><td>36</td><td>AI q1 - Click to write Choice 1   </td><td>2</td><td>1</td></tr>\n",
              "\t<tr><td>38</td><td>AI q1 - Click to write Choice 1   </td><td>3</td><td>1</td></tr>\n",
              "</tbody>\n",
              "</table>\n"
            ],
            "text/markdown": "\nA spec_tbl_df: 310 × 4\n\n| response &lt;dbl&gt; | Question ID &lt;chr&gt; | Answer &lt;dbl&gt; | is_AI &lt;dbl&gt; |\n|---|---|---|---|\n|  3 | Is your birthday an even number? | 2 | 0 |\n|  4 | Is your birthday an even number? | 1 | 0 |\n|  5 | Is your birthday an even number? | 1 | 0 |\n|  6 | Is your birthday an even number? | 2 | 0 |\n|  7 | Is your birthday an even number? | 1 | 0 |\n|  8 | Is your birthday an even number? | 2 | 0 |\n|  9 | Is your birthday an even number? | 1 | 0 |\n| 10 | Is your birthday an even number? | 2 | 0 |\n| 11 | Is your birthday an even number? | 1 | 0 |\n| 12 | Is your birthday an even number? | 1 | 0 |\n| 13 | Is your birthday an even number? | 1 | 0 |\n| 14 | Is your birthday an even number? | 2 | 0 |\n| 15 | Is your birthday an even number? | 1 | 0 |\n| 16 | Is your birthday an even number? | 1 | 0 |\n| 17 | Is your birthday an even number? | 1 | 0 |\n| 18 | Is your birthday an even number? | 2 | 0 |\n| 19 | Is your birthday an even number? | 2 | 0 |\n| 20 | Is your birthday an even number? | 1 | 0 |\n| 21 | Is your birthday an even number? | 2 | 0 |\n| 22 | Is your birthday an even number? | 1 | 0 |\n| 23 | Is your birthday an even number? | 1 | 0 |\n| 24 | Is your birthday an even number? | 1 | 0 |\n| 25 | Is your birthday an even number? | 1 | 0 |\n| 26 | Is your birthday an even number? | 1 | 0 |\n| 27 | Is your birthday an even number? | 2 | 0 |\n| 28 | Is your birthday an even number? | 2 | 0 |\n| 29 | Is your birthday an even number? | 1 | 0 |\n| 30 | Is your birthday an even number? | 2 | 0 |\n| 31 | Is your birthday an even number? | 2 | 0 |\n| 32 | Is your birthday an even number? | 2 | 0 |\n| ⋮ | ⋮ | ⋮ | ⋮ |\n| 10 | human q8 - Click to write Choice 1 | 3 | 0 |\n| 14 | human q8 - Click to write Choice 1 | 2 | 0 |\n| 18 | human q8 - Click to write Choice 1 | 4 | 0 |\n| 19 | human q8 - Click to write Choice 1 | 5 | 0 |\n| 21 | human q8 - Click to write Choice 1 | 2 | 0 |\n| 27 | human q8 - Click to write Choice 1 | 1 | 0 |\n| 28 | human q8 - Click to write Choice 1 | 1 | 0 |\n| 30 | human q8 - Click to write Choice 1 | 2 | 0 |\n| 31 | human q8 - Click to write Choice 1 | 5 | 0 |\n| 32 | human q8 - Click to write Choice 1 | 5 | 0 |\n| 33 | human q8 - Click to write Choice 1 | 3 | 0 |\n| 34 | human q8 - Click to write Choice 1 | 4 | 0 |\n| 36 | human q8 - Click to write Choice 1 | 2 | 0 |\n| 38 | human q8 - Click to write Choice 1 | 5 | 0 |\n|  6 | AI q1 - Click to write Choice 1    | 4 | 1 |\n|  8 | AI q1 - Click to write Choice 1    | 5 | 1 |\n| 10 | AI q1 - Click to write Choice 1    | 4 | 1 |\n| 14 | AI q1 - Click to write Choice 1    | 2 | 1 |\n| 18 | AI q1 - Click to write Choice 1    | 4 | 1 |\n| 19 | AI q1 - Click to write Choice 1    | 5 | 1 |\n| 21 | AI q1 - Click to write Choice 1    | 4 | 1 |\n| 27 | AI q1 - Click to write Choice 1    | 5 | 1 |\n| 28 | AI q1 - Click to write Choice 1    | 3 | 1 |\n| 30 | AI q1 - Click to write Choice 1    | 3 | 1 |\n| 31 | AI q1 - Click to write Choice 1    | 5 | 1 |\n| 32 | AI q1 - Click to write Choice 1    | 4 | 1 |\n| 33 | AI q1 - Click to write Choice 1    | 5 | 1 |\n| 34 | AI q1 - Click to write Choice 1    | 5 | 1 |\n| 36 | AI q1 - Click to write Choice 1    | 2 | 1 |\n| 38 | AI q1 - Click to write Choice 1    | 3 | 1 |\n\n",
            "text/latex": "A spec\\_tbl\\_df: 310 × 4\n\\begin{tabular}{llll}\n response & Question ID & Answer & is\\_AI\\\\\n <dbl> & <chr> & <dbl> & <dbl>\\\\\n\\hline\n\t  3 & Is your birthday an even number? & 2 & 0\\\\\n\t  4 & Is your birthday an even number? & 1 & 0\\\\\n\t  5 & Is your birthday an even number? & 1 & 0\\\\\n\t  6 & Is your birthday an even number? & 2 & 0\\\\\n\t  7 & Is your birthday an even number? & 1 & 0\\\\\n\t  8 & Is your birthday an even number? & 2 & 0\\\\\n\t  9 & Is your birthday an even number? & 1 & 0\\\\\n\t 10 & Is your birthday an even number? & 2 & 0\\\\\n\t 11 & Is your birthday an even number? & 1 & 0\\\\\n\t 12 & Is your birthday an even number? & 1 & 0\\\\\n\t 13 & Is your birthday an even number? & 1 & 0\\\\\n\t 14 & Is your birthday an even number? & 2 & 0\\\\\n\t 15 & Is your birthday an even number? & 1 & 0\\\\\n\t 16 & Is your birthday an even number? & 1 & 0\\\\\n\t 17 & Is your birthday an even number? & 1 & 0\\\\\n\t 18 & Is your birthday an even number? & 2 & 0\\\\\n\t 19 & Is your birthday an even number? & 2 & 0\\\\\n\t 20 & Is your birthday an even number? & 1 & 0\\\\\n\t 21 & Is your birthday an even number? & 2 & 0\\\\\n\t 22 & Is your birthday an even number? & 1 & 0\\\\\n\t 23 & Is your birthday an even number? & 1 & 0\\\\\n\t 24 & Is your birthday an even number? & 1 & 0\\\\\n\t 25 & Is your birthday an even number? & 1 & 0\\\\\n\t 26 & Is your birthday an even number? & 1 & 0\\\\\n\t 27 & Is your birthday an even number? & 2 & 0\\\\\n\t 28 & Is your birthday an even number? & 2 & 0\\\\\n\t 29 & Is your birthday an even number? & 1 & 0\\\\\n\t 30 & Is your birthday an even number? & 2 & 0\\\\\n\t 31 & Is your birthday an even number? & 2 & 0\\\\\n\t 32 & Is your birthday an even number? & 2 & 0\\\\\n\t ⋮ & ⋮ & ⋮ & ⋮\\\\\n\t 10 & human q8 - Click to write Choice 1 & 3 & 0\\\\\n\t 14 & human q8 - Click to write Choice 1 & 2 & 0\\\\\n\t 18 & human q8 - Click to write Choice 1 & 4 & 0\\\\\n\t 19 & human q8 - Click to write Choice 1 & 5 & 0\\\\\n\t 21 & human q8 - Click to write Choice 1 & 2 & 0\\\\\n\t 27 & human q8 - Click to write Choice 1 & 1 & 0\\\\\n\t 28 & human q8 - Click to write Choice 1 & 1 & 0\\\\\n\t 30 & human q8 - Click to write Choice 1 & 2 & 0\\\\\n\t 31 & human q8 - Click to write Choice 1 & 5 & 0\\\\\n\t 32 & human q8 - Click to write Choice 1 & 5 & 0\\\\\n\t 33 & human q8 - Click to write Choice 1 & 3 & 0\\\\\n\t 34 & human q8 - Click to write Choice 1 & 4 & 0\\\\\n\t 36 & human q8 - Click to write Choice 1 & 2 & 0\\\\\n\t 38 & human q8 - Click to write Choice 1 & 5 & 0\\\\\n\t  6 & AI q1 - Click to write Choice 1    & 4 & 1\\\\\n\t  8 & AI q1 - Click to write Choice 1    & 5 & 1\\\\\n\t 10 & AI q1 - Click to write Choice 1    & 4 & 1\\\\\n\t 14 & AI q1 - Click to write Choice 1    & 2 & 1\\\\\n\t 18 & AI q1 - Click to write Choice 1    & 4 & 1\\\\\n\t 19 & AI q1 - Click to write Choice 1    & 5 & 1\\\\\n\t 21 & AI q1 - Click to write Choice 1    & 4 & 1\\\\\n\t 27 & AI q1 - Click to write Choice 1    & 5 & 1\\\\\n\t 28 & AI q1 - Click to write Choice 1    & 3 & 1\\\\\n\t 30 & AI q1 - Click to write Choice 1    & 3 & 1\\\\\n\t 31 & AI q1 - Click to write Choice 1    & 5 & 1\\\\\n\t 32 & AI q1 - Click to write Choice 1    & 4 & 1\\\\\n\t 33 & AI q1 - Click to write Choice 1    & 5 & 1\\\\\n\t 34 & AI q1 - Click to write Choice 1    & 5 & 1\\\\\n\t 36 & AI q1 - Click to write Choice 1    & 2 & 1\\\\\n\t 38 & AI q1 - Click to write Choice 1    & 3 & 1\\\\\n\\end{tabular}\n"
          },
          "metadata": {}
        }
      ]
    },
    {
      "cell_type": "code",
      "source": [
        "model<-clmm(as.factor(Answer)~is_AI+(1|response), data = datafile)"
      ],
      "metadata": {
        "id": "OvB19xTGA2yQ"
      },
      "execution_count": null,
      "outputs": []
    },
    {
      "cell_type": "code",
      "source": [
        "summary(model)"
      ],
      "metadata": {
        "colab": {
          "base_uri": "https://localhost:8080/",
          "height": 451
        },
        "id": "O3HvrIsrA2OM",
        "outputId": "d557886e-06dc-4043-954a-0c3d76c79dfc"
      },
      "execution_count": null,
      "outputs": [
        {
          "output_type": "display_data",
          "data": {
            "text/plain": [
              "Cumulative Link Mixed Model fitted with the Laplace approximation\n",
              "\n",
              "formula: as.factor(Answer) ~ is_AI + (1 | response)\n",
              "data:    datafile\n",
              "\n",
              " link  threshold nobs logLik  AIC    niter    max.grad cond.H \n",
              " logit flexible  310  -469.17 950.35 289(870) 1.01e-03 4.6e+01\n",
              "\n",
              "Random effects:\n",
              " Groups   Name        Variance Std.Dev.\n",
              " response (Intercept) 0.9024   0.95    \n",
              "Number of groups:  response 38 \n",
              "\n",
              "Coefficients:\n",
              "      Estimate Std. Error z value Pr(>|z|)   \n",
              "is_AI   0.6332     0.2185   2.898  0.00375 **\n",
              "---\n",
              "Signif. codes:  0 ‘***’ 0.001 ‘**’ 0.01 ‘*’ 0.05 ‘.’ 0.1 ‘ ’ 1\n",
              "\n",
              "Threshold coefficients:\n",
              "    Estimate Std. Error z value\n",
              "1|2  -1.8013     0.2486  -7.246\n",
              "2|3  -0.5605     0.2250  -2.491\n",
              "3|4   0.1767     0.2237   0.790\n",
              "4|5   1.2444     0.2347   5.302"
            ]
          },
          "metadata": {}
        }
      ]
    },
    {
      "cell_type": "code",
      "source": [
        "exp(0.6332)"
      ],
      "metadata": {
        "id": "Ow_bQ-IhCKsC",
        "outputId": "09f38184-0190-4814-9e15-e4a46754c6e2",
        "colab": {
          "base_uri": "https://localhost:8080/",
          "height": 34
        }
      },
      "execution_count": null,
      "outputs": [
        {
          "output_type": "display_data",
          "data": {
            "text/html": [
              "1.88362855674662"
            ],
            "text/markdown": "1.88362855674662",
            "text/latex": "1.88362855674662",
            "text/plain": [
              "[1] 1.883629"
            ]
          },
          "metadata": {}
        }
      ]
    }
  ]
}